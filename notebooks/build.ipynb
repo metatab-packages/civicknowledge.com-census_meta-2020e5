{
 "cells": [
  {
   "cell_type": "code",
   "execution_count": 2,
   "metadata": {},
   "outputs": [],
   "source": [
    "%load_ext autoreload\n",
    "%autoreload 2\n",
    "\n",
    "import metapack as mp\n",
    "import pandas as pd\n",
    "import numpy as np\n",
    "import matplotlib.pyplot as plt\n",
    "from IPython.display import display \n",
    "\n",
    "from publicdata.census.files.metafiles import TableLookup\n",
    "import shelve \n",
    "\n",
    "%matplotlib inline\n",
    "\n",
    "mp.jupyter.init()\n"
   ]
  },
  {
   "cell_type": "code",
   "execution_count": 3,
   "metadata": {},
   "outputs": [
    {
     "data": {
      "text/plain": "# Metadata for the 2020 ACS\n`civicknowledge.com-census_meta-2020e5-4.1.1` Last Update: 2023-05-18T19:06:55\n\n_Deatilsed metadata for ACS releases._\n\n\n\n\n \n\n## Contacts\n\n* **Wrangler** [Eric Busboom](mailto:eric@civicknowledge.com), [Civic Knowledge](http://civicknowledge.com)\n\n## Resources\n\n* **[metadata](notebooks/build.ipynb#mdf)**. Combined columns and tables\n* **[tables](notebooks/build.ipynb#tdf)**. \n* **[columns](notebooks/build.ipynb#cdf)**. \n* **[topics](notebooks/build.ipynb#topics_df)**. \n",
      "text/html": "<h1>Metadata for the 2020 ACS</h1>\n<p><code>civicknowledge.com-census_meta-2020e5-4.1.1</code> Last Update: 2023-05-18T19:06:55</p>\n<p><em>Deatilsed metadata for ACS releases.</em></p>\n<h2>Contacts</h2>\n<ul>\n<li><strong>Wrangler</strong> <a href=\"mailto:eric@civicknowledge.com\">Eric Busboom</a>, <a href=\"http://civicknowledge.com\">Civic Knowledge</a></li>\n</ul>\n<h2>Resources</h2>\n<ul>\n<li><strong><a href=\"notebooks/build.ipynb#mdf\">metadata</a></strong>. Combined columns and tables</li>\n<li><strong><a href=\"notebooks/build.ipynb#tdf\">tables</a></strong>. </li>\n<li><strong><a href=\"notebooks/build.ipynb#cdf\">columns</a></strong>. </li>\n<li><strong><a href=\"notebooks/build.ipynb#topics_df\">topics</a></strong>. </li>\n</ul>"
     },
     "execution_count": 3,
     "metadata": {},
     "output_type": "execute_result"
    }
   ],
   "source": [
    "#pkg = mp.jupyter.open_package()\n",
    "pkg = mp.jupyter.open_source_package()\n",
    "\n",
    "# Setup importing form this package\n",
    "pkg.set_sys_path()\n",
    "import pylib # Import the code for the package\n",
    "from pylib.census_path_processing import * \n",
    "\n",
    "pkg"
   ]
  },
  {
   "cell_type": "code",
   "execution_count": 4,
   "metadata": {},
   "outputs": [],
   "source": [
    "year = 2020\n",
    "release = 5\n",
    "\n",
    "tl = TableLookup(year, release)\n",
    "tdf = tl.tables_df\n",
    "cdf = tl.columns_df"
   ]
  },
  {
   "cell_type": "code",
   "execution_count": 5,
   "metadata": {
    "collapsed": false,
    "jupyter": {
     "outputs_hidden": false
    }
   },
   "outputs": [
    {
     "data": {
      "text/plain": "       table_id    seq  n_seg  start_pos  \\\n825      B25037  [119]      1         42   \n1000     B27022  [140]      1         67   \n32       B02018    [3]      1        169   \n326      B11012   [36]      1        126   \n162     B07404D   [19]      1        222   \n691     B22005C   [74]      1         54   \n392      B15001   [42]      1          7   \n347     B12007C   [38]      1        147   \n531     B19013I   [58]      1        186   \n91    B06004HPR   [12]      1        242   \n\n                                                  title  \\\n825               Median Year Structure Built By Tenure   \n1000  Health Insurance Coverage Status By Sex By Enr...   \n32    Asian Alone Or In Any Combination By Selected ...   \n326                                  Households By Type   \n162   Geographical Mobility In The Past Year (Asian ...   \n691   Receipt Of Food Stamps/Snap In The Past 12 Mon...   \n392   Sex By Age By Educational Attainment For The P...   \n347   Median Age At First Marriage (American Indian ...   \n531   Median Household Income In The Past 12 Months ...   \n91    Place Of Birth (White Alone, Not Hispanic Or L...   \n\n                            bare_title  technical  \\\n825        Median Year Structure Built      False   \n1000  Health Insurance Coverage Status      False   \n32                                  Or      False   \n326                         Households      False   \n162              Geographical Mobility      False   \n691        Receipt Of Food Stamps/Snap      False   \n392             Educational Attainment      False   \n347       Median Age At First Marriage      False   \n531            Median Household Income      False   \n91                      Place Of Birth      False   \n\n                                               universe  \\\n825                              Occupied housing units   \n1000  Civilian noninstitutionalized population 19 to...   \n32    Total Asian alone or in any combination popula...   \n326                                          Households   \n162   Asian alone population 1 year and over in the ...   \n691   Households with a householder who is American ...   \n392                        Population 18 years and over   \n347   American Indian and Alaska Native alone popula...   \n531   Households with a householder who is Hispanic ...   \n91    White alone, not Hispanic or Latino population...   \n\n                              subject      age  ... household family  \\\n825                           Housing      all  ...      None   None   \n1000                 Health Insurance  019-025  ...      None   None   \n32                               Race      all  ...      None   None   \n326             Households - Families      all  ...         Y   None   \n162   Residence Last Year - Migration  001-120  ...      None   None   \n691                 Transfer Programs      all  ...         Y   None   \n392            Educational Attainment  018-120  ...      None   None   \n347                    Marital Status  015-054  ...      None   None   \n531                            Income      all  ...         Y   None   \n91            Place of Birth - Native      all  ...      None   None   \n\n     poverty_status        group_quarters opposite_sex marital_status housing  \\\n825            None                  None         None           None       Y   \n1000           None  noninstitutionalized         None           None    None   \n32             None                  None         None           None    None   \n326            None                  None         None           None    None   \n162            None                  None         None           None    None   \n691            None                  None         None           None    None   \n392            None                  None         None           None    None   \n347            None                  None         None           None    None   \n531            None                  None         None           None    None   \n91             None                  None         None           None    None   \n\n     education    units redundant_paths  \n825       None  housing           False  \n1000      None   people           False  \n32        None   people           False  \n326       None   people           False  \n162       None   people           False  \n691       None   people           False  \n392       None   people           False  \n347       None   people           False  \n531       None  dollars           False  \n91        None   people           False  \n\n[10 rows x 31 columns]",
      "text/html": "<div>\n<style scoped>\n    .dataframe tbody tr th:only-of-type {\n        vertical-align: middle;\n    }\n\n    .dataframe tbody tr th {\n        vertical-align: top;\n    }\n\n    .dataframe thead th {\n        text-align: right;\n    }\n</style>\n<table border=\"1\" class=\"dataframe\">\n  <thead>\n    <tr style=\"text-align: right;\">\n      <th></th>\n      <th>table_id</th>\n      <th>seq</th>\n      <th>n_seg</th>\n      <th>start_pos</th>\n      <th>title</th>\n      <th>bare_title</th>\n      <th>technical</th>\n      <th>universe</th>\n      <th>subject</th>\n      <th>age</th>\n      <th>...</th>\n      <th>household</th>\n      <th>family</th>\n      <th>poverty_status</th>\n      <th>group_quarters</th>\n      <th>opposite_sex</th>\n      <th>marital_status</th>\n      <th>housing</th>\n      <th>education</th>\n      <th>units</th>\n      <th>redundant_paths</th>\n    </tr>\n  </thead>\n  <tbody>\n    <tr>\n      <th>825</th>\n      <td>B25037</td>\n      <td>[119]</td>\n      <td>1</td>\n      <td>42</td>\n      <td>Median Year Structure Built By Tenure</td>\n      <td>Median Year Structure Built</td>\n      <td>False</td>\n      <td>Occupied housing units</td>\n      <td>Housing</td>\n      <td>all</td>\n      <td>...</td>\n      <td>None</td>\n      <td>None</td>\n      <td>None</td>\n      <td>None</td>\n      <td>None</td>\n      <td>None</td>\n      <td>Y</td>\n      <td>None</td>\n      <td>housing</td>\n      <td>False</td>\n    </tr>\n    <tr>\n      <th>1000</th>\n      <td>B27022</td>\n      <td>[140]</td>\n      <td>1</td>\n      <td>67</td>\n      <td>Health Insurance Coverage Status By Sex By Enr...</td>\n      <td>Health Insurance Coverage Status</td>\n      <td>False</td>\n      <td>Civilian noninstitutionalized population 19 to...</td>\n      <td>Health Insurance</td>\n      <td>019-025</td>\n      <td>...</td>\n      <td>None</td>\n      <td>None</td>\n      <td>None</td>\n      <td>noninstitutionalized</td>\n      <td>None</td>\n      <td>None</td>\n      <td>None</td>\n      <td>None</td>\n      <td>people</td>\n      <td>False</td>\n    </tr>\n    <tr>\n      <th>32</th>\n      <td>B02018</td>\n      <td>[3]</td>\n      <td>1</td>\n      <td>169</td>\n      <td>Asian Alone Or In Any Combination By Selected ...</td>\n      <td>Or</td>\n      <td>False</td>\n      <td>Total Asian alone or in any combination popula...</td>\n      <td>Race</td>\n      <td>all</td>\n      <td>...</td>\n      <td>None</td>\n      <td>None</td>\n      <td>None</td>\n      <td>None</td>\n      <td>None</td>\n      <td>None</td>\n      <td>None</td>\n      <td>None</td>\n      <td>people</td>\n      <td>False</td>\n    </tr>\n    <tr>\n      <th>326</th>\n      <td>B11012</td>\n      <td>[36]</td>\n      <td>1</td>\n      <td>126</td>\n      <td>Households By Type</td>\n      <td>Households</td>\n      <td>False</td>\n      <td>Households</td>\n      <td>Households - Families</td>\n      <td>all</td>\n      <td>...</td>\n      <td>Y</td>\n      <td>None</td>\n      <td>None</td>\n      <td>None</td>\n      <td>None</td>\n      <td>None</td>\n      <td>None</td>\n      <td>None</td>\n      <td>people</td>\n      <td>False</td>\n    </tr>\n    <tr>\n      <th>162</th>\n      <td>B07404D</td>\n      <td>[19]</td>\n      <td>1</td>\n      <td>222</td>\n      <td>Geographical Mobility In The Past Year (Asian ...</td>\n      <td>Geographical Mobility</td>\n      <td>False</td>\n      <td>Asian alone population 1 year and over in the ...</td>\n      <td>Residence Last Year - Migration</td>\n      <td>001-120</td>\n      <td>...</td>\n      <td>None</td>\n      <td>None</td>\n      <td>None</td>\n      <td>None</td>\n      <td>None</td>\n      <td>None</td>\n      <td>None</td>\n      <td>None</td>\n      <td>people</td>\n      <td>False</td>\n    </tr>\n    <tr>\n      <th>691</th>\n      <td>B22005C</td>\n      <td>[74]</td>\n      <td>1</td>\n      <td>54</td>\n      <td>Receipt Of Food Stamps/Snap In The Past 12 Mon...</td>\n      <td>Receipt Of Food Stamps/Snap</td>\n      <td>False</td>\n      <td>Households with a householder who is American ...</td>\n      <td>Transfer Programs</td>\n      <td>all</td>\n      <td>...</td>\n      <td>Y</td>\n      <td>None</td>\n      <td>None</td>\n      <td>None</td>\n      <td>None</td>\n      <td>None</td>\n      <td>None</td>\n      <td>None</td>\n      <td>people</td>\n      <td>False</td>\n    </tr>\n    <tr>\n      <th>392</th>\n      <td>B15001</td>\n      <td>[42]</td>\n      <td>1</td>\n      <td>7</td>\n      <td>Sex By Age By Educational Attainment For The P...</td>\n      <td>Educational Attainment</td>\n      <td>False</td>\n      <td>Population 18 years and over</td>\n      <td>Educational Attainment</td>\n      <td>018-120</td>\n      <td>...</td>\n      <td>None</td>\n      <td>None</td>\n      <td>None</td>\n      <td>None</td>\n      <td>None</td>\n      <td>None</td>\n      <td>None</td>\n      <td>None</td>\n      <td>people</td>\n      <td>False</td>\n    </tr>\n    <tr>\n      <th>347</th>\n      <td>B12007C</td>\n      <td>[38]</td>\n      <td>1</td>\n      <td>147</td>\n      <td>Median Age At First Marriage (American Indian ...</td>\n      <td>Median Age At First Marriage</td>\n      <td>False</td>\n      <td>American Indian and Alaska Native alone popula...</td>\n      <td>Marital Status</td>\n      <td>015-054</td>\n      <td>...</td>\n      <td>None</td>\n      <td>None</td>\n      <td>None</td>\n      <td>None</td>\n      <td>None</td>\n      <td>None</td>\n      <td>None</td>\n      <td>None</td>\n      <td>people</td>\n      <td>False</td>\n    </tr>\n    <tr>\n      <th>531</th>\n      <td>B19013I</td>\n      <td>[58]</td>\n      <td>1</td>\n      <td>186</td>\n      <td>Median Household Income In The Past 12 Months ...</td>\n      <td>Median Household Income</td>\n      <td>False</td>\n      <td>Households with a householder who is Hispanic ...</td>\n      <td>Income</td>\n      <td>all</td>\n      <td>...</td>\n      <td>Y</td>\n      <td>None</td>\n      <td>None</td>\n      <td>None</td>\n      <td>None</td>\n      <td>None</td>\n      <td>None</td>\n      <td>None</td>\n      <td>dollars</td>\n      <td>False</td>\n    </tr>\n    <tr>\n      <th>91</th>\n      <td>B06004HPR</td>\n      <td>[12]</td>\n      <td>1</td>\n      <td>242</td>\n      <td>Place Of Birth (White Alone, Not Hispanic Or L...</td>\n      <td>Place Of Birth</td>\n      <td>False</td>\n      <td>White alone, not Hispanic or Latino population...</td>\n      <td>Place of Birth - Native</td>\n      <td>all</td>\n      <td>...</td>\n      <td>None</td>\n      <td>None</td>\n      <td>None</td>\n      <td>None</td>\n      <td>None</td>\n      <td>None</td>\n      <td>None</td>\n      <td>None</td>\n      <td>people</td>\n      <td>False</td>\n    </tr>\n  </tbody>\n</table>\n<p>10 rows × 31 columns</p>\n</div>"
     },
     "execution_count": 5,
     "metadata": {},
     "output_type": "execute_result"
    }
   ],
   "source": [
    "tl = TableLookup(year, release)\n",
    "tdf = tl.tables_df\n",
    "\n",
    "t = tdf[tdf.technical == False]\n",
    "t.sample(10)\n",
    "\n"
   ]
  },
  {
   "cell_type": "code",
   "execution_count": 6,
   "outputs": [
    {
     "data": {
      "text/plain": "bare_title\nGeographical Mobility                                                      76\nGroup Quarters Type                                                        47\nMeans Of Transportation To Work                                            45\nTenure                                                                     40\nPlace Of Birth                                                             37\n                                                                           ..\nAggregate Supplemental Security Income (Ssi)                                1\nMedian Selected Monthly Owner Costs                                         1\nMedian Selected Monthly Owner Costs As A Percentage Of Household Income     1\nAggregate Social Security Income                                            1\nYear Structure Built                                                        1\nName: table_id, Length: 229, dtype: int64"
     },
     "execution_count": 6,
     "metadata": {},
     "output_type": "execute_result"
    }
   ],
   "source": [
    "t.groupby('bare_title').table_id.count().sort_values(ascending=False)"
   ],
   "metadata": {
    "collapsed": false
   }
  },
  {
   "cell_type": "code",
   "execution_count": 7,
   "metadata": {
    "collapsed": false,
    "jupyter": {
     "outputs_hidden": false
    }
   },
   "outputs": [
    {
     "data": {
      "text/plain": "           column_id   table_id  \\\n8816      B16006_002     B16006   \n7849      B14006_006     B14006   \n18438     B24121_468     B24121   \n27626     B99172_011     B99172   \n1986      B06003_013     B06003   \n18871     B24122_335     B24122   \n7155      B12002_128     B12002   \n17242     B24115_404     B24115   \n9271     B17001E_002    B17001E   \n2082   B06004HPR_004  B06004HPR   \n\n                                                    name     sex   race  age  \\\n8816                                  Speak only English     all    all  all   \n7849                      Enrolled in grade 1 to grade 4     all    all  all   \n18438                                            Riggers     all    all  all   \n27626  More than 0 to less than 10 percent of total i...     all    all  all   \n1986                                        Foreign born     all    all  all   \n18871               Sales and related workers, all other     all    all  all   \n7155                                           Separated  female    all  all   \n17242                              Construction laborers     all    all  all   \n9271    Income in the past 12 months below poverty level     all  nhopi  all   \n2082                              Native; born elsewhere     all    all  all   \n\n      age_range  min_age  max_age poverty_status  \\\n8816       None        0      120           None   \n7849       None        0      120          gt100   \n18438      None        0      120           None   \n27626      None        0      120           None   \n1986       None        0      120           None   \n18871      None        0      120           None   \n7155       None        0      120           None   \n17242      None        0      120           None   \n9271       None        0      120          lt100   \n2082       None        0      120           None   \n\n                                                    path  \\\n8816                           /total/speak only english   \n7849   /total/income in the past 12 months below the ...   \n18438                                     /total/riggers   \n27626  /more than 0 to less than 10 percent of total ...   \n1986                                 /total/foreign born   \n18871        /total/sales and related workers, all other   \n7155   /total/female/now married/married, spouse abse...   \n17242                       /total/construction laborers   \n9271   /total/income in the past 12 months below pove...   \n2082                       /total/native; born elsewhere   \n\n                                           filtered_path citizen employed  \\\n8816                                 /speak only english    None     None   \n7849   /enrolled in school/enrolled in grade 1 to gra...    None     None   \n18438                                           /riggers    None     None   \n27626                                                       None     None   \n1986                                                        None     None   \n18871              /sales and related workers, all other    None     None   \n7155                                                        None     None   \n17242                             /construction laborers    None     None   \n9271                                                        None     None   \n2082                                                        None     None   \n\n      family foreign_born group_quarters has_income marital_status tenure  \n8816    None         None           None       None           None   None  \n7849    None         None           None       None           None   None  \n18438   None         None           None       None           None   None  \n27626   None         None           None       None           None   None  \n1986    None            Y           None       None           None   None  \n18871   None         None           None       None           None   None  \n7155    None         None           None       None      separated   None  \n17242   None         None           None       None           None   None  \n9271    None         None           None       None           None   None  \n2082    None         None           None       None           None   None  ",
      "text/html": "<div>\n<style scoped>\n    .dataframe tbody tr th:only-of-type {\n        vertical-align: middle;\n    }\n\n    .dataframe tbody tr th {\n        vertical-align: top;\n    }\n\n    .dataframe thead th {\n        text-align: right;\n    }\n</style>\n<table border=\"1\" class=\"dataframe\">\n  <thead>\n    <tr style=\"text-align: right;\">\n      <th></th>\n      <th>column_id</th>\n      <th>table_id</th>\n      <th>name</th>\n      <th>sex</th>\n      <th>race</th>\n      <th>age</th>\n      <th>age_range</th>\n      <th>min_age</th>\n      <th>max_age</th>\n      <th>poverty_status</th>\n      <th>path</th>\n      <th>filtered_path</th>\n      <th>citizen</th>\n      <th>employed</th>\n      <th>family</th>\n      <th>foreign_born</th>\n      <th>group_quarters</th>\n      <th>has_income</th>\n      <th>marital_status</th>\n      <th>tenure</th>\n    </tr>\n  </thead>\n  <tbody>\n    <tr>\n      <th>8816</th>\n      <td>B16006_002</td>\n      <td>B16006</td>\n      <td>Speak only English</td>\n      <td>all</td>\n      <td>all</td>\n      <td>all</td>\n      <td>None</td>\n      <td>0</td>\n      <td>120</td>\n      <td>None</td>\n      <td>/total/speak only english</td>\n      <td>/speak only english</td>\n      <td>None</td>\n      <td>None</td>\n      <td>None</td>\n      <td>None</td>\n      <td>None</td>\n      <td>None</td>\n      <td>None</td>\n      <td>None</td>\n    </tr>\n    <tr>\n      <th>7849</th>\n      <td>B14006_006</td>\n      <td>B14006</td>\n      <td>Enrolled in grade 1 to grade 4</td>\n      <td>all</td>\n      <td>all</td>\n      <td>all</td>\n      <td>None</td>\n      <td>0</td>\n      <td>120</td>\n      <td>gt100</td>\n      <td>/total/income in the past 12 months below the ...</td>\n      <td>/enrolled in school/enrolled in grade 1 to gra...</td>\n      <td>None</td>\n      <td>None</td>\n      <td>None</td>\n      <td>None</td>\n      <td>None</td>\n      <td>None</td>\n      <td>None</td>\n      <td>None</td>\n    </tr>\n    <tr>\n      <th>18438</th>\n      <td>B24121_468</td>\n      <td>B24121</td>\n      <td>Riggers</td>\n      <td>all</td>\n      <td>all</td>\n      <td>all</td>\n      <td>None</td>\n      <td>0</td>\n      <td>120</td>\n      <td>None</td>\n      <td>/total/riggers</td>\n      <td>/riggers</td>\n      <td>None</td>\n      <td>None</td>\n      <td>None</td>\n      <td>None</td>\n      <td>None</td>\n      <td>None</td>\n      <td>None</td>\n      <td>None</td>\n    </tr>\n    <tr>\n      <th>27626</th>\n      <td>B99172_011</td>\n      <td>B99172</td>\n      <td>More than 0 to less than 10 percent of total i...</td>\n      <td>all</td>\n      <td>all</td>\n      <td>all</td>\n      <td>None</td>\n      <td>0</td>\n      <td>120</td>\n      <td>None</td>\n      <td>/more than 0 to less than 10 percent of total ...</td>\n      <td></td>\n      <td>None</td>\n      <td>None</td>\n      <td>None</td>\n      <td>None</td>\n      <td>None</td>\n      <td>None</td>\n      <td>None</td>\n      <td>None</td>\n    </tr>\n    <tr>\n      <th>1986</th>\n      <td>B06003_013</td>\n      <td>B06003</td>\n      <td>Foreign born</td>\n      <td>all</td>\n      <td>all</td>\n      <td>all</td>\n      <td>None</td>\n      <td>0</td>\n      <td>120</td>\n      <td>None</td>\n      <td>/total/foreign born</td>\n      <td></td>\n      <td>None</td>\n      <td>None</td>\n      <td>None</td>\n      <td>Y</td>\n      <td>None</td>\n      <td>None</td>\n      <td>None</td>\n      <td>None</td>\n    </tr>\n    <tr>\n      <th>18871</th>\n      <td>B24122_335</td>\n      <td>B24122</td>\n      <td>Sales and related workers, all other</td>\n      <td>all</td>\n      <td>all</td>\n      <td>all</td>\n      <td>None</td>\n      <td>0</td>\n      <td>120</td>\n      <td>None</td>\n      <td>/total/sales and related workers, all other</td>\n      <td>/sales and related workers, all other</td>\n      <td>None</td>\n      <td>None</td>\n      <td>None</td>\n      <td>None</td>\n      <td>None</td>\n      <td>None</td>\n      <td>None</td>\n      <td>None</td>\n    </tr>\n    <tr>\n      <th>7155</th>\n      <td>B12002_128</td>\n      <td>B12002</td>\n      <td>Separated</td>\n      <td>female</td>\n      <td>all</td>\n      <td>all</td>\n      <td>None</td>\n      <td>0</td>\n      <td>120</td>\n      <td>None</td>\n      <td>/total/female/now married/married, spouse abse...</td>\n      <td></td>\n      <td>None</td>\n      <td>None</td>\n      <td>None</td>\n      <td>None</td>\n      <td>None</td>\n      <td>None</td>\n      <td>separated</td>\n      <td>None</td>\n    </tr>\n    <tr>\n      <th>17242</th>\n      <td>B24115_404</td>\n      <td>B24115</td>\n      <td>Construction laborers</td>\n      <td>all</td>\n      <td>all</td>\n      <td>all</td>\n      <td>None</td>\n      <td>0</td>\n      <td>120</td>\n      <td>None</td>\n      <td>/total/construction laborers</td>\n      <td>/construction laborers</td>\n      <td>None</td>\n      <td>None</td>\n      <td>None</td>\n      <td>None</td>\n      <td>None</td>\n      <td>None</td>\n      <td>None</td>\n      <td>None</td>\n    </tr>\n    <tr>\n      <th>9271</th>\n      <td>B17001E_002</td>\n      <td>B17001E</td>\n      <td>Income in the past 12 months below poverty level</td>\n      <td>all</td>\n      <td>nhopi</td>\n      <td>all</td>\n      <td>None</td>\n      <td>0</td>\n      <td>120</td>\n      <td>lt100</td>\n      <td>/total/income in the past 12 months below pove...</td>\n      <td></td>\n      <td>None</td>\n      <td>None</td>\n      <td>None</td>\n      <td>None</td>\n      <td>None</td>\n      <td>None</td>\n      <td>None</td>\n      <td>None</td>\n    </tr>\n    <tr>\n      <th>2082</th>\n      <td>B06004HPR_004</td>\n      <td>B06004HPR</td>\n      <td>Native; born elsewhere</td>\n      <td>all</td>\n      <td>all</td>\n      <td>all</td>\n      <td>None</td>\n      <td>0</td>\n      <td>120</td>\n      <td>None</td>\n      <td>/total/native; born elsewhere</td>\n      <td></td>\n      <td>None</td>\n      <td>None</td>\n      <td>None</td>\n      <td>None</td>\n      <td>None</td>\n      <td>None</td>\n      <td>None</td>\n      <td>None</td>\n    </tr>\n  </tbody>\n</table>\n</div>"
     },
     "execution_count": 7,
     "metadata": {},
     "output_type": "execute_result"
    }
   ],
   "source": [
    "tl = TableLookup(year, release)\n",
    "cdf = tl.columns_df\n",
    "cdf.sample(10)"
   ]
  },
  {
   "cell_type": "code",
   "execution_count": 8,
   "metadata": {
    "collapsed": false,
    "jupyter": {
     "outputs_hidden": false
    }
   },
   "outputs": [
    {
     "name": "stdout",
     "output_type": "stream",
     "text": [
      "978\n"
     ]
    },
    {
     "data": {
      "text/plain": "    table_id    column_id        col  col_val table_val\n304   B25033   B25033_009     tenure   renter  occupied\n409   B25045   B25045_016     tenure   renter  occupied\n702   B25126   B25126_056     tenure   renter  occupied\n833   B25128   B25128_033     tenure   renter  occupied\n216   B25015   B25015_003     tenure    owner  occupied\n251   B25016   B25016_012     tenure   renter  occupied\n65    B23003   B23003_021  age_range  (6, 17)  (20, 64)\n56    B23003   B23003_016        age  006-017   020-064\n575   B25124   B25124_045     tenure   renter  occupied\n363   B25043   B25043_002     tenure    owner  occupied\n42    B23003   B23003_009        age  000-018   020-064\n402   B25045   B25045_009     tenure    owner  occupied\n884   B25129   B25129_040     tenure   renter  occupied\n24    B15011   B15011_037        sex   female      male\n298   B25033   B25033_003     tenure    owner  occupied\n691   B25126   B25126_045     tenure   renter  occupied\n435   B25115   B25115_010     tenure    owner  occupied\n491   B25117   B25117_018     tenure   renter  occupied\n198   B25011   B25011_045     tenure   renter  occupied\n609   B25125   B25125_007     tenure    owner  occupied\n83    B23003   B23003_030  age_range  (0, 18)  (20, 64)\n463   B25116   B25116_012     tenure    owner  occupied\n587   B25124   B25124_057     tenure   renter  occupied\n21    B15011   B15011_034        sex   female      male\n111  B25003H  B25003H_002     tenure    owner  occupied\n95    B25003   B25003_002     tenure    owner  occupied\n852   B25129   B25129_008     tenure    owner  occupied\n829   B25128   B25128_029     tenure   renter  occupied\n535   B25124   B25124_005     tenure    owner  occupied\n159   B25011   B25011_006     tenure    owner  occupied\n293   B25026   B25026_012     tenure   renter  occupied\n846   B25129   B25129_002     tenure    owner  occupied\n261   B25020   B25020_004     tenure    owner  occupied\n751   B25127   B25127_037     tenure    owner  occupied\n778   B25127   B25127_064     tenure   renter  occupied\n200   B25011   B25011_047     tenure   renter  occupied\n208   B25014   B25014_007     tenure    owner  occupied\n516   B25118   B25118_023     tenure   renter  occupied\n756   B25127   B25127_042     tenure    owner  occupied\n194   B25011   B25011_041     tenure   renter  occupied",
      "text/html": "<div>\n<style scoped>\n    .dataframe tbody tr th:only-of-type {\n        vertical-align: middle;\n    }\n\n    .dataframe tbody tr th {\n        vertical-align: top;\n    }\n\n    .dataframe thead th {\n        text-align: right;\n    }\n</style>\n<table border=\"1\" class=\"dataframe\">\n  <thead>\n    <tr style=\"text-align: right;\">\n      <th></th>\n      <th>table_id</th>\n      <th>column_id</th>\n      <th>col</th>\n      <th>col_val</th>\n      <th>table_val</th>\n    </tr>\n  </thead>\n  <tbody>\n    <tr>\n      <th>304</th>\n      <td>B25033</td>\n      <td>B25033_009</td>\n      <td>tenure</td>\n      <td>renter</td>\n      <td>occupied</td>\n    </tr>\n    <tr>\n      <th>409</th>\n      <td>B25045</td>\n      <td>B25045_016</td>\n      <td>tenure</td>\n      <td>renter</td>\n      <td>occupied</td>\n    </tr>\n    <tr>\n      <th>702</th>\n      <td>B25126</td>\n      <td>B25126_056</td>\n      <td>tenure</td>\n      <td>renter</td>\n      <td>occupied</td>\n    </tr>\n    <tr>\n      <th>833</th>\n      <td>B25128</td>\n      <td>B25128_033</td>\n      <td>tenure</td>\n      <td>renter</td>\n      <td>occupied</td>\n    </tr>\n    <tr>\n      <th>216</th>\n      <td>B25015</td>\n      <td>B25015_003</td>\n      <td>tenure</td>\n      <td>owner</td>\n      <td>occupied</td>\n    </tr>\n    <tr>\n      <th>251</th>\n      <td>B25016</td>\n      <td>B25016_012</td>\n      <td>tenure</td>\n      <td>renter</td>\n      <td>occupied</td>\n    </tr>\n    <tr>\n      <th>65</th>\n      <td>B23003</td>\n      <td>B23003_021</td>\n      <td>age_range</td>\n      <td>(6, 17)</td>\n      <td>(20, 64)</td>\n    </tr>\n    <tr>\n      <th>56</th>\n      <td>B23003</td>\n      <td>B23003_016</td>\n      <td>age</td>\n      <td>006-017</td>\n      <td>020-064</td>\n    </tr>\n    <tr>\n      <th>575</th>\n      <td>B25124</td>\n      <td>B25124_045</td>\n      <td>tenure</td>\n      <td>renter</td>\n      <td>occupied</td>\n    </tr>\n    <tr>\n      <th>363</th>\n      <td>B25043</td>\n      <td>B25043_002</td>\n      <td>tenure</td>\n      <td>owner</td>\n      <td>occupied</td>\n    </tr>\n    <tr>\n      <th>42</th>\n      <td>B23003</td>\n      <td>B23003_009</td>\n      <td>age</td>\n      <td>000-018</td>\n      <td>020-064</td>\n    </tr>\n    <tr>\n      <th>402</th>\n      <td>B25045</td>\n      <td>B25045_009</td>\n      <td>tenure</td>\n      <td>owner</td>\n      <td>occupied</td>\n    </tr>\n    <tr>\n      <th>884</th>\n      <td>B25129</td>\n      <td>B25129_040</td>\n      <td>tenure</td>\n      <td>renter</td>\n      <td>occupied</td>\n    </tr>\n    <tr>\n      <th>24</th>\n      <td>B15011</td>\n      <td>B15011_037</td>\n      <td>sex</td>\n      <td>female</td>\n      <td>male</td>\n    </tr>\n    <tr>\n      <th>298</th>\n      <td>B25033</td>\n      <td>B25033_003</td>\n      <td>tenure</td>\n      <td>owner</td>\n      <td>occupied</td>\n    </tr>\n    <tr>\n      <th>691</th>\n      <td>B25126</td>\n      <td>B25126_045</td>\n      <td>tenure</td>\n      <td>renter</td>\n      <td>occupied</td>\n    </tr>\n    <tr>\n      <th>435</th>\n      <td>B25115</td>\n      <td>B25115_010</td>\n      <td>tenure</td>\n      <td>owner</td>\n      <td>occupied</td>\n    </tr>\n    <tr>\n      <th>491</th>\n      <td>B25117</td>\n      <td>B25117_018</td>\n      <td>tenure</td>\n      <td>renter</td>\n      <td>occupied</td>\n    </tr>\n    <tr>\n      <th>198</th>\n      <td>B25011</td>\n      <td>B25011_045</td>\n      <td>tenure</td>\n      <td>renter</td>\n      <td>occupied</td>\n    </tr>\n    <tr>\n      <th>609</th>\n      <td>B25125</td>\n      <td>B25125_007</td>\n      <td>tenure</td>\n      <td>owner</td>\n      <td>occupied</td>\n    </tr>\n    <tr>\n      <th>83</th>\n      <td>B23003</td>\n      <td>B23003_030</td>\n      <td>age_range</td>\n      <td>(0, 18)</td>\n      <td>(20, 64)</td>\n    </tr>\n    <tr>\n      <th>463</th>\n      <td>B25116</td>\n      <td>B25116_012</td>\n      <td>tenure</td>\n      <td>owner</td>\n      <td>occupied</td>\n    </tr>\n    <tr>\n      <th>587</th>\n      <td>B25124</td>\n      <td>B25124_057</td>\n      <td>tenure</td>\n      <td>renter</td>\n      <td>occupied</td>\n    </tr>\n    <tr>\n      <th>21</th>\n      <td>B15011</td>\n      <td>B15011_034</td>\n      <td>sex</td>\n      <td>female</td>\n      <td>male</td>\n    </tr>\n    <tr>\n      <th>111</th>\n      <td>B25003H</td>\n      <td>B25003H_002</td>\n      <td>tenure</td>\n      <td>owner</td>\n      <td>occupied</td>\n    </tr>\n    <tr>\n      <th>95</th>\n      <td>B25003</td>\n      <td>B25003_002</td>\n      <td>tenure</td>\n      <td>owner</td>\n      <td>occupied</td>\n    </tr>\n    <tr>\n      <th>852</th>\n      <td>B25129</td>\n      <td>B25129_008</td>\n      <td>tenure</td>\n      <td>owner</td>\n      <td>occupied</td>\n    </tr>\n    <tr>\n      <th>829</th>\n      <td>B25128</td>\n      <td>B25128_029</td>\n      <td>tenure</td>\n      <td>renter</td>\n      <td>occupied</td>\n    </tr>\n    <tr>\n      <th>535</th>\n      <td>B25124</td>\n      <td>B25124_005</td>\n      <td>tenure</td>\n      <td>owner</td>\n      <td>occupied</td>\n    </tr>\n    <tr>\n      <th>159</th>\n      <td>B25011</td>\n      <td>B25011_006</td>\n      <td>tenure</td>\n      <td>owner</td>\n      <td>occupied</td>\n    </tr>\n    <tr>\n      <th>293</th>\n      <td>B25026</td>\n      <td>B25026_012</td>\n      <td>tenure</td>\n      <td>renter</td>\n      <td>occupied</td>\n    </tr>\n    <tr>\n      <th>846</th>\n      <td>B25129</td>\n      <td>B25129_002</td>\n      <td>tenure</td>\n      <td>owner</td>\n      <td>occupied</td>\n    </tr>\n    <tr>\n      <th>261</th>\n      <td>B25020</td>\n      <td>B25020_004</td>\n      <td>tenure</td>\n      <td>owner</td>\n      <td>occupied</td>\n    </tr>\n    <tr>\n      <th>751</th>\n      <td>B25127</td>\n      <td>B25127_037</td>\n      <td>tenure</td>\n      <td>owner</td>\n      <td>occupied</td>\n    </tr>\n    <tr>\n      <th>778</th>\n      <td>B25127</td>\n      <td>B25127_064</td>\n      <td>tenure</td>\n      <td>renter</td>\n      <td>occupied</td>\n    </tr>\n    <tr>\n      <th>200</th>\n      <td>B25011</td>\n      <td>B25011_047</td>\n      <td>tenure</td>\n      <td>renter</td>\n      <td>occupied</td>\n    </tr>\n    <tr>\n      <th>208</th>\n      <td>B25014</td>\n      <td>B25014_007</td>\n      <td>tenure</td>\n      <td>owner</td>\n      <td>occupied</td>\n    </tr>\n    <tr>\n      <th>516</th>\n      <td>B25118</td>\n      <td>B25118_023</td>\n      <td>tenure</td>\n      <td>renter</td>\n      <td>occupied</td>\n    </tr>\n    <tr>\n      <th>756</th>\n      <td>B25127</td>\n      <td>B25127_042</td>\n      <td>tenure</td>\n      <td>owner</td>\n      <td>occupied</td>\n    </tr>\n    <tr>\n      <th>194</th>\n      <td>B25011</td>\n      <td>B25011_041</td>\n      <td>tenure</td>\n      <td>renter</td>\n      <td>occupied</td>\n    </tr>\n  </tbody>\n</table>\n</div>"
     },
     "execution_count": 8,
     "metadata": {},
     "output_type": "execute_result"
    }
   ],
   "source": [
    "# Check for columns where the extracted parameter for the table is different than the column\n",
    "# Most of these cases are OK, since the column universe is a subset of the table universe,\n",
    "#\n",
    "#Table_lookup\n",
    "tabl_lu = tdf.fillna('all').replace({'001-120':'all'}).set_index('table_id').to_dict('index')\n",
    "\n",
    "# Common Columns\n",
    "com_col = set(tdf.columns) & set(cdf.columns) - set(['table_id'])\n",
    "\n",
    "cdf = cdf.fillna('all')\n",
    "\n",
    "diffs = []\n",
    "for idx, r in cdf.iterrows():\n",
    "    tabl = tabl_lu[r.table_id]\n",
    "    for c in com_col:\n",
    "        if r[c] != 'all' and tabl[c] != 'all' and r[c] != tabl[c]:\n",
    "\n",
    "            # Ignore if the column is age, and the range is within the table range\n",
    "            if c == 'age':\n",
    "                r1 = [int(e) for e in r[c].split('-')]\n",
    "                r2 = [int(e) for e in tabl[c].split('-')]\n",
    "                if r1[0] >= r2[0] and r1[1] <= r2[1]:\n",
    "                    continue\n",
    "            elif c == 'age_range':\n",
    "                r1 = r[c]\n",
    "                r2 = tabl[c]\n",
    "                if r1[0] >= r2[0] and r1[1] <= r2[1]:\n",
    "                    continue\n",
    "\n",
    "            diffs.append((r.table_id, r.column_id, c, r[c], tabl[c]))\n",
    "\n",
    "diffs = pd.DataFrame(diffs, columns=['table_id','column_id','col','col_val', 'table_val'])\n",
    "print(len(diffs))\n",
    "diffs.sample(40)"
   ]
  },
  {
   "cell_type": "code",
   "execution_count": 9,
   "metadata": {
    "collapsed": false,
    "jupyter": {
     "outputs_hidden": false
    }
   },
   "outputs": [
    {
     "data": {
      "text/plain": "         column_id table_id                                   name     sex  \\\n13795  B20005H_052  B20005H                          With earnings  female   \n12211  B19037I_002  B19037I             Householder under 25 years     all   \n5847    B08526_064   B08526                          Manufacturing     all   \n13726  B20005G_078  B20005G                       $5,000 to $7,499  female   \n8827    B16007_005   B16007    Speak other Indo-European languages     all   \n2187    B06008_014   B06008                          Never married     all   \n14306   B22002_013   B22002  Female householder, no spouse present  female   \n26493  C27001A_003  C27001A         With health insurance coverage     all   \n26829   B27010_066   B27010           No health insurance coverage     all   \n2950    B07009_017   B07009                      Bachelor's degree     all   \n\n          race      age  age_range  min_age  max_age poverty_status  ...  msa  \\\n13795  nhwhite  016-120  (16, 120)        0      120            all  ...  all   \n12211     hisp  000-025    (0, 25)        0       25            all  ...  all   \n5847       all  016-120  (16, 120)        0      120            all  ...  all   \n13726     many  016-120  (16, 120)        0      120            all  ...  all   \n8827       all  005-017    (5, 17)        5       17            all  ...  all   \n2187       all  015-120  (15, 120)        0      120            all  ...  all   \n14306      all  000-018    (0, 18)        0       18            all  ...  all   \n26493    white  000-019    (0, 19)        0       19            all  ...  all   \n26829      all  065-120  (65, 120)       65      120            all  ...  all   \n2950       all  025-120  (25, 120)        0      120            all  ...  all   \n\n       military ft_employed grand_pc household opposite_sex housing education  \\\n13795       all         all      all       all          all     all       all   \n12211       all         all      all         Y          all     all       all   \n5847        all         all      all       all          all     all       all   \n13726       all         all      all       all          all     all       all   \n8827        all         all      all       all          all     all       all   \n2187        all         all      all       all          all     all       all   \n14306       all         all      all         Y          all     all       all   \n26493  civilian         all      all       all          all     all       all   \n26829  civilian         all      all       all          all     all       all   \n2950        all         all      all       all          all     all       all   \n\n         units redundant_paths  \n13795  dollars           False  \n12211  dollars           False  \n5847    people           False  \n13726  dollars           False  \n8827    people           False  \n2187    people           False  \n14306   people           False  \n26493   people           False  \n26829   people           False  \n2950    people           False  \n\n[10 rows x 38 columns]",
      "text/html": "<div>\n<style scoped>\n    .dataframe tbody tr th:only-of-type {\n        vertical-align: middle;\n    }\n\n    .dataframe tbody tr th {\n        vertical-align: top;\n    }\n\n    .dataframe thead th {\n        text-align: right;\n    }\n</style>\n<table border=\"1\" class=\"dataframe\">\n  <thead>\n    <tr style=\"text-align: right;\">\n      <th></th>\n      <th>column_id</th>\n      <th>table_id</th>\n      <th>name</th>\n      <th>sex</th>\n      <th>race</th>\n      <th>age</th>\n      <th>age_range</th>\n      <th>min_age</th>\n      <th>max_age</th>\n      <th>poverty_status</th>\n      <th>...</th>\n      <th>msa</th>\n      <th>military</th>\n      <th>ft_employed</th>\n      <th>grand_pc</th>\n      <th>household</th>\n      <th>opposite_sex</th>\n      <th>housing</th>\n      <th>education</th>\n      <th>units</th>\n      <th>redundant_paths</th>\n    </tr>\n  </thead>\n  <tbody>\n    <tr>\n      <th>13795</th>\n      <td>B20005H_052</td>\n      <td>B20005H</td>\n      <td>With earnings</td>\n      <td>female</td>\n      <td>nhwhite</td>\n      <td>016-120</td>\n      <td>(16, 120)</td>\n      <td>0</td>\n      <td>120</td>\n      <td>all</td>\n      <td>...</td>\n      <td>all</td>\n      <td>all</td>\n      <td>all</td>\n      <td>all</td>\n      <td>all</td>\n      <td>all</td>\n      <td>all</td>\n      <td>all</td>\n      <td>dollars</td>\n      <td>False</td>\n    </tr>\n    <tr>\n      <th>12211</th>\n      <td>B19037I_002</td>\n      <td>B19037I</td>\n      <td>Householder under 25 years</td>\n      <td>all</td>\n      <td>hisp</td>\n      <td>000-025</td>\n      <td>(0, 25)</td>\n      <td>0</td>\n      <td>25</td>\n      <td>all</td>\n      <td>...</td>\n      <td>all</td>\n      <td>all</td>\n      <td>all</td>\n      <td>all</td>\n      <td>Y</td>\n      <td>all</td>\n      <td>all</td>\n      <td>all</td>\n      <td>dollars</td>\n      <td>False</td>\n    </tr>\n    <tr>\n      <th>5847</th>\n      <td>B08526_064</td>\n      <td>B08526</td>\n      <td>Manufacturing</td>\n      <td>all</td>\n      <td>all</td>\n      <td>016-120</td>\n      <td>(16, 120)</td>\n      <td>0</td>\n      <td>120</td>\n      <td>all</td>\n      <td>...</td>\n      <td>all</td>\n      <td>all</td>\n      <td>all</td>\n      <td>all</td>\n      <td>all</td>\n      <td>all</td>\n      <td>all</td>\n      <td>all</td>\n      <td>people</td>\n      <td>False</td>\n    </tr>\n    <tr>\n      <th>13726</th>\n      <td>B20005G_078</td>\n      <td>B20005G</td>\n      <td>$5,000 to $7,499</td>\n      <td>female</td>\n      <td>many</td>\n      <td>016-120</td>\n      <td>(16, 120)</td>\n      <td>0</td>\n      <td>120</td>\n      <td>all</td>\n      <td>...</td>\n      <td>all</td>\n      <td>all</td>\n      <td>all</td>\n      <td>all</td>\n      <td>all</td>\n      <td>all</td>\n      <td>all</td>\n      <td>all</td>\n      <td>dollars</td>\n      <td>False</td>\n    </tr>\n    <tr>\n      <th>8827</th>\n      <td>B16007_005</td>\n      <td>B16007</td>\n      <td>Speak other Indo-European languages</td>\n      <td>all</td>\n      <td>all</td>\n      <td>005-017</td>\n      <td>(5, 17)</td>\n      <td>5</td>\n      <td>17</td>\n      <td>all</td>\n      <td>...</td>\n      <td>all</td>\n      <td>all</td>\n      <td>all</td>\n      <td>all</td>\n      <td>all</td>\n      <td>all</td>\n      <td>all</td>\n      <td>all</td>\n      <td>people</td>\n      <td>False</td>\n    </tr>\n    <tr>\n      <th>2187</th>\n      <td>B06008_014</td>\n      <td>B06008</td>\n      <td>Never married</td>\n      <td>all</td>\n      <td>all</td>\n      <td>015-120</td>\n      <td>(15, 120)</td>\n      <td>0</td>\n      <td>120</td>\n      <td>all</td>\n      <td>...</td>\n      <td>all</td>\n      <td>all</td>\n      <td>all</td>\n      <td>all</td>\n      <td>all</td>\n      <td>all</td>\n      <td>all</td>\n      <td>all</td>\n      <td>people</td>\n      <td>False</td>\n    </tr>\n    <tr>\n      <th>14306</th>\n      <td>B22002_013</td>\n      <td>B22002</td>\n      <td>Female householder, no spouse present</td>\n      <td>female</td>\n      <td>all</td>\n      <td>000-018</td>\n      <td>(0, 18)</td>\n      <td>0</td>\n      <td>18</td>\n      <td>all</td>\n      <td>...</td>\n      <td>all</td>\n      <td>all</td>\n      <td>all</td>\n      <td>all</td>\n      <td>Y</td>\n      <td>all</td>\n      <td>all</td>\n      <td>all</td>\n      <td>people</td>\n      <td>False</td>\n    </tr>\n    <tr>\n      <th>26493</th>\n      <td>C27001A_003</td>\n      <td>C27001A</td>\n      <td>With health insurance coverage</td>\n      <td>all</td>\n      <td>white</td>\n      <td>000-019</td>\n      <td>(0, 19)</td>\n      <td>0</td>\n      <td>19</td>\n      <td>all</td>\n      <td>...</td>\n      <td>all</td>\n      <td>civilian</td>\n      <td>all</td>\n      <td>all</td>\n      <td>all</td>\n      <td>all</td>\n      <td>all</td>\n      <td>all</td>\n      <td>people</td>\n      <td>False</td>\n    </tr>\n    <tr>\n      <th>26829</th>\n      <td>B27010_066</td>\n      <td>B27010</td>\n      <td>No health insurance coverage</td>\n      <td>all</td>\n      <td>all</td>\n      <td>065-120</td>\n      <td>(65, 120)</td>\n      <td>65</td>\n      <td>120</td>\n      <td>all</td>\n      <td>...</td>\n      <td>all</td>\n      <td>civilian</td>\n      <td>all</td>\n      <td>all</td>\n      <td>all</td>\n      <td>all</td>\n      <td>all</td>\n      <td>all</td>\n      <td>people</td>\n      <td>False</td>\n    </tr>\n    <tr>\n      <th>2950</th>\n      <td>B07009_017</td>\n      <td>B07009</td>\n      <td>Bachelor's degree</td>\n      <td>all</td>\n      <td>all</td>\n      <td>025-120</td>\n      <td>(25, 120)</td>\n      <td>0</td>\n      <td>120</td>\n      <td>all</td>\n      <td>...</td>\n      <td>all</td>\n      <td>all</td>\n      <td>all</td>\n      <td>all</td>\n      <td>all</td>\n      <td>all</td>\n      <td>all</td>\n      <td>all</td>\n      <td>people</td>\n      <td>False</td>\n    </tr>\n  </tbody>\n</table>\n<p>10 rows × 38 columns</p>\n</div>"
     },
     "execution_count": 9,
     "metadata": {},
     "output_type": "execute_result"
    }
   ],
   "source": [
    "# Merge the table and column dataframes\n",
    "\n",
    "t_only_cols = ['table_id'] + list(set(tdf.columns) - set(cdf.columns))\n",
    "c_only_cols = list(set(cdf.columns) - set(tdf.columns))\n",
    "cc = set(tdf.columns) & set(cdf.columns)\n",
    "\n",
    "rows = []\n",
    "for idx, r in cdf.iterrows():\n",
    "    tabl = tabl_lu[r.table_id]\n",
    "\n",
    "    com_v = {}\n",
    "\n",
    "    for c in com_col:\n",
    "        c_v = r[c]\n",
    "        t_v = tabl[c]\n",
    "\n",
    "        if c_v == 'all':\n",
    "            v = t_v\n",
    "        else:\n",
    "            v = c_v\n",
    "\n",
    "        com_v[c] = v\n",
    "\n",
    "    d = r.to_dict()\n",
    "    d.update(tabl)\n",
    "    d.update(com_v)\n",
    "\n",
    "    rows.append(d)\n",
    "\n",
    "df = pd.DataFrame(rows)\n",
    "\n",
    "df.sample(10)"
   ]
  },
  {
   "cell_type": "code",
   "execution_count": 10,
   "metadata": {
    "collapsed": false,
    "jupyter": {
     "outputs_hidden": false
    }
   },
   "outputs": [],
   "source": [
    "# The group id is the id of the first table that has this bare title\n",
    "df['group_id'] = 'G' + df.groupby('bare_title').table_id.transform(lambda g: min(g) ).str.slice(1)\n"
   ]
  },
  {
   "cell_type": "code",
   "execution_count": 11,
   "metadata": {
    "collapsed": false,
    "jupyter": {
     "outputs_hidden": false
    }
   },
   "outputs": [
    {
     "data": {
      "text/plain": "      table_id                                              title group_id  \\\n24063   B25125  Tenure By Age Of Householder By Units In Struc...   G25003   \n16166   C24060  Occupation By Class Of Worker For The Civilian...   G24011   \n3043    B07010  Geographical Mobility In The Past Year By Indi...   G07001   \n22800   B25050  Plumbing Facilities By Occupants Per Room By Y...   G25047   \n27212   B28004  Household Income In The Last 12 Months (In 202...   G19001   \n...        ...                                                ...      ...   \n21920   B24136  Detailed Industry For The Civilian Employed Fe...   G24134   \n173    B01001E  Sex By Age (Native Hawaiian And Other Pacific ...   G01001   \n6414    B09021  Living Arrangements Of Adults 18 Years And Ove...   G09021   \n5212    B08201               Household Size By Vehicles Available   G08201   \n12145  B19037H  Age Of Householder By Household Income In The ...   G19037   \n\n                                     bare_title  \\\n24063                                    Tenure   \n16166                                Occupation   \n3043                      Geographical Mobility   \n22800                       Plumbing Facilities   \n27212                          Household Income   \n...                                         ...   \n21920                         Detailed Industry   \n173                                  Population   \n6414   Arrangements Of Adults 18 Years And Over   \n5212                             Household Size   \n12145                        Age Of Householder   \n\n                                                universe  \\\n24063                             Occupied housing units   \n16166     Civilian employed population 16 years and over   \n3043   Population 15 years and over in the United States   \n22800                             Occupied housing units   \n27212                                         Households   \n...                                                  ...   \n21920  Civilian employed female population 16 years a...   \n173    People who are Native Hawaiian and Other Pacif...   \n6414          Population 18 years and over in households   \n5212                                          Households   \n12145  Households with a householder who is White alo...   \n\n                                   subject    column_id  \\\n24063                              Housing   B25125_019   \n16166  Industry-Occupation-Class of Worker   C24060_014   \n3043       Residence Last Year - Migration   B07010_038   \n22800                              Housing   B25050_002   \n27212          Computer and Internet Usage   B28004_010   \n...                                    ...          ...   \n21920  Industry-Occupation-Class of Worker   B24136_028   \n173                                Age-Sex  B01001E_001   \n6414               Children - Relationship   B09021_025   \n5212                       Journey to Work   B08201_014   \n12145                               Income  B19037H_005   \n\n                                                    name  \\\n24063                                             2 to 4   \n16166  Management, business, science, and arts occupa...   \n3043                                  $10,000 to $14,999   \n22800                       Complete plumbing facilities   \n27212                                 $20,000 to $34,999   \n...                                                  ...   \n21920                      Not specified food industries   \n173                                                Total   \n6414   Householder living with unmarried partner or u...   \n5212                                No vehicle available   \n12145                                 $15,000 to $19,999   \n\n                                                    path  \\\n24063  /total/owner occupied/householder 65 years and...   \n16166  /total/self-employed in own incorporated busin...   \n3043   /total/moved from different county within same...   \n22800                /total/complete plumbing facilities   \n27212                          /total/$20,000 to $34,999   \n...                                                  ...   \n21920               /total/not specified food industries   \n173                                               /total   \n6414   /total/65 years and over/householder living wi...   \n5212      /total/2-person household/no vehicle available   \n12145  /total/householder under 25 years/$15,000 to $...   \n\n                                           filtered_path  ...  family  \\\n24063                                            /2 to 4  ...     all   \n16166  /management, business, science, and arts occup...  ...     all   \n3043   /moved from different county within same state...  ...     all   \n22800                      /complete plumbing facilities  ...     all   \n27212                                /$20,000 to $34,999  ...     all   \n...                                                  ...  ...     ...   \n21920                     /not specified food industries  ...     all   \n173                                                       ...     all   \n6414   /householder living with unmarried partner or ...  ...     all   \n5212            /2-person household/no vehicle available  ...     all   \n12145                                /$15,000 to $19,999  ...     all   \n\n      household grand_pc opposite_sex group_quarters housing    tenure  \\\n24063       all      all          all            all       Y     owner   \n16166       all      all          all            all     all       all   \n3043        all      all          all            all     all       all   \n22800       all      all          all            all       Y  occupied   \n27212         Y      all          all            all     all       all   \n...         ...      ...          ...            ...     ...       ...   \n21920       all      all          all            all     all       all   \n173         all      all          all            all     all       all   \n6414          Y      all          all            all     all       all   \n5212          Y      all          all            all     all       all   \n12145         Y      all          all            all     all       all   \n\n      citizen foreign_born  military  \n24063     all          all       all  \n16166     all          all  civilian  \n3043      all          all       all  \n22800     all          all       all  \n27212     all          all       all  \n...       ...          ...       ...  \n21920     all          all  civilian  \n173       all          all       all  \n6414      all          all       all  \n5212      all          all       all  \n12145     all          all       all  \n\n[200 rows x 30 columns]",
      "text/html": "<div>\n<style scoped>\n    .dataframe tbody tr th:only-of-type {\n        vertical-align: middle;\n    }\n\n    .dataframe tbody tr th {\n        vertical-align: top;\n    }\n\n    .dataframe thead th {\n        text-align: right;\n    }\n</style>\n<table border=\"1\" class=\"dataframe\">\n  <thead>\n    <tr style=\"text-align: right;\">\n      <th></th>\n      <th>table_id</th>\n      <th>title</th>\n      <th>group_id</th>\n      <th>bare_title</th>\n      <th>universe</th>\n      <th>subject</th>\n      <th>column_id</th>\n      <th>name</th>\n      <th>path</th>\n      <th>filtered_path</th>\n      <th>...</th>\n      <th>family</th>\n      <th>household</th>\n      <th>grand_pc</th>\n      <th>opposite_sex</th>\n      <th>group_quarters</th>\n      <th>housing</th>\n      <th>tenure</th>\n      <th>citizen</th>\n      <th>foreign_born</th>\n      <th>military</th>\n    </tr>\n  </thead>\n  <tbody>\n    <tr>\n      <th>24063</th>\n      <td>B25125</td>\n      <td>Tenure By Age Of Householder By Units In Struc...</td>\n      <td>G25003</td>\n      <td>Tenure</td>\n      <td>Occupied housing units</td>\n      <td>Housing</td>\n      <td>B25125_019</td>\n      <td>2 to 4</td>\n      <td>/total/owner occupied/householder 65 years and...</td>\n      <td>/2 to 4</td>\n      <td>...</td>\n      <td>all</td>\n      <td>all</td>\n      <td>all</td>\n      <td>all</td>\n      <td>all</td>\n      <td>Y</td>\n      <td>owner</td>\n      <td>all</td>\n      <td>all</td>\n      <td>all</td>\n    </tr>\n    <tr>\n      <th>16166</th>\n      <td>C24060</td>\n      <td>Occupation By Class Of Worker For The Civilian...</td>\n      <td>G24011</td>\n      <td>Occupation</td>\n      <td>Civilian employed population 16 years and over</td>\n      <td>Industry-Occupation-Class of Worker</td>\n      <td>C24060_014</td>\n      <td>Management, business, science, and arts occupa...</td>\n      <td>/total/self-employed in own incorporated busin...</td>\n      <td>/management, business, science, and arts occup...</td>\n      <td>...</td>\n      <td>all</td>\n      <td>all</td>\n      <td>all</td>\n      <td>all</td>\n      <td>all</td>\n      <td>all</td>\n      <td>all</td>\n      <td>all</td>\n      <td>all</td>\n      <td>civilian</td>\n    </tr>\n    <tr>\n      <th>3043</th>\n      <td>B07010</td>\n      <td>Geographical Mobility In The Past Year By Indi...</td>\n      <td>G07001</td>\n      <td>Geographical Mobility</td>\n      <td>Population 15 years and over in the United States</td>\n      <td>Residence Last Year - Migration</td>\n      <td>B07010_038</td>\n      <td>$10,000 to $14,999</td>\n      <td>/total/moved from different county within same...</td>\n      <td>/moved from different county within same state...</td>\n      <td>...</td>\n      <td>all</td>\n      <td>all</td>\n      <td>all</td>\n      <td>all</td>\n      <td>all</td>\n      <td>all</td>\n      <td>all</td>\n      <td>all</td>\n      <td>all</td>\n      <td>all</td>\n    </tr>\n    <tr>\n      <th>22800</th>\n      <td>B25050</td>\n      <td>Plumbing Facilities By Occupants Per Room By Y...</td>\n      <td>G25047</td>\n      <td>Plumbing Facilities</td>\n      <td>Occupied housing units</td>\n      <td>Housing</td>\n      <td>B25050_002</td>\n      <td>Complete plumbing facilities</td>\n      <td>/total/complete plumbing facilities</td>\n      <td>/complete plumbing facilities</td>\n      <td>...</td>\n      <td>all</td>\n      <td>all</td>\n      <td>all</td>\n      <td>all</td>\n      <td>all</td>\n      <td>Y</td>\n      <td>occupied</td>\n      <td>all</td>\n      <td>all</td>\n      <td>all</td>\n    </tr>\n    <tr>\n      <th>27212</th>\n      <td>B28004</td>\n      <td>Household Income In The Last 12 Months (In 202...</td>\n      <td>G19001</td>\n      <td>Household Income</td>\n      <td>Households</td>\n      <td>Computer and Internet Usage</td>\n      <td>B28004_010</td>\n      <td>$20,000 to $34,999</td>\n      <td>/total/$20,000 to $34,999</td>\n      <td>/$20,000 to $34,999</td>\n      <td>...</td>\n      <td>all</td>\n      <td>Y</td>\n      <td>all</td>\n      <td>all</td>\n      <td>all</td>\n      <td>all</td>\n      <td>all</td>\n      <td>all</td>\n      <td>all</td>\n      <td>all</td>\n    </tr>\n    <tr>\n      <th>...</th>\n      <td>...</td>\n      <td>...</td>\n      <td>...</td>\n      <td>...</td>\n      <td>...</td>\n      <td>...</td>\n      <td>...</td>\n      <td>...</td>\n      <td>...</td>\n      <td>...</td>\n      <td>...</td>\n      <td>...</td>\n      <td>...</td>\n      <td>...</td>\n      <td>...</td>\n      <td>...</td>\n      <td>...</td>\n      <td>...</td>\n      <td>...</td>\n      <td>...</td>\n      <td>...</td>\n    </tr>\n    <tr>\n      <th>21920</th>\n      <td>B24136</td>\n      <td>Detailed Industry For The Civilian Employed Fe...</td>\n      <td>G24134</td>\n      <td>Detailed Industry</td>\n      <td>Civilian employed female population 16 years a...</td>\n      <td>Industry-Occupation-Class of Worker</td>\n      <td>B24136_028</td>\n      <td>Not specified food industries</td>\n      <td>/total/not specified food industries</td>\n      <td>/not specified food industries</td>\n      <td>...</td>\n      <td>all</td>\n      <td>all</td>\n      <td>all</td>\n      <td>all</td>\n      <td>all</td>\n      <td>all</td>\n      <td>all</td>\n      <td>all</td>\n      <td>all</td>\n      <td>civilian</td>\n    </tr>\n    <tr>\n      <th>173</th>\n      <td>B01001E</td>\n      <td>Sex By Age (Native Hawaiian And Other Pacific ...</td>\n      <td>G01001</td>\n      <td>Population</td>\n      <td>People who are Native Hawaiian and Other Pacif...</td>\n      <td>Age-Sex</td>\n      <td>B01001E_001</td>\n      <td>Total</td>\n      <td>/total</td>\n      <td></td>\n      <td>...</td>\n      <td>all</td>\n      <td>all</td>\n      <td>all</td>\n      <td>all</td>\n      <td>all</td>\n      <td>all</td>\n      <td>all</td>\n      <td>all</td>\n      <td>all</td>\n      <td>all</td>\n    </tr>\n    <tr>\n      <th>6414</th>\n      <td>B09021</td>\n      <td>Living Arrangements Of Adults 18 Years And Ove...</td>\n      <td>G09021</td>\n      <td>Arrangements Of Adults 18 Years And Over</td>\n      <td>Population 18 years and over in households</td>\n      <td>Children - Relationship</td>\n      <td>B09021_025</td>\n      <td>Householder living with unmarried partner or u...</td>\n      <td>/total/65 years and over/householder living wi...</td>\n      <td>/householder living with unmarried partner or ...</td>\n      <td>...</td>\n      <td>all</td>\n      <td>Y</td>\n      <td>all</td>\n      <td>all</td>\n      <td>all</td>\n      <td>all</td>\n      <td>all</td>\n      <td>all</td>\n      <td>all</td>\n      <td>all</td>\n    </tr>\n    <tr>\n      <th>5212</th>\n      <td>B08201</td>\n      <td>Household Size By Vehicles Available</td>\n      <td>G08201</td>\n      <td>Household Size</td>\n      <td>Households</td>\n      <td>Journey to Work</td>\n      <td>B08201_014</td>\n      <td>No vehicle available</td>\n      <td>/total/2-person household/no vehicle available</td>\n      <td>/2-person household/no vehicle available</td>\n      <td>...</td>\n      <td>all</td>\n      <td>Y</td>\n      <td>all</td>\n      <td>all</td>\n      <td>all</td>\n      <td>all</td>\n      <td>all</td>\n      <td>all</td>\n      <td>all</td>\n      <td>all</td>\n    </tr>\n    <tr>\n      <th>12145</th>\n      <td>B19037H</td>\n      <td>Age Of Householder By Household Income In The ...</td>\n      <td>G19037</td>\n      <td>Age Of Householder</td>\n      <td>Households with a householder who is White alo...</td>\n      <td>Income</td>\n      <td>B19037H_005</td>\n      <td>$15,000 to $19,999</td>\n      <td>/total/householder under 25 years/$15,000 to $...</td>\n      <td>/$15,000 to $19,999</td>\n      <td>...</td>\n      <td>all</td>\n      <td>Y</td>\n      <td>all</td>\n      <td>all</td>\n      <td>all</td>\n      <td>all</td>\n      <td>all</td>\n      <td>all</td>\n      <td>all</td>\n      <td>all</td>\n    </tr>\n  </tbody>\n</table>\n<p>200 rows × 30 columns</p>\n</div>"
     },
     "execution_count": 11,
     "metadata": {},
     "output_type": "execute_result"
    }
   ],
   "source": [
    "cols = [\n",
    "        'table_id', 'title', 'group_id', 'bare_title', 'universe', 'subject',\n",
    "        'column_id',  'name', 'path', 'filtered_path',  'technical', 'units',\n",
    "        'age', 'sex', 'race',\n",
    "        'poverty_status', 'has_income',   'employed', 'ft_employed',\n",
    "        'marital_status','family',  'household', 'grand_pc', 'opposite_sex',\n",
    "        'group_quarters', 'housing', 'tenure',\n",
    "        'citizen',  'foreign_born', 'military'\n",
    "    ]\n",
    "\n",
    "mdf = df[cols]\n",
    "mdf.sample(200)"
   ]
  },
  {
   "cell_type": "markdown",
   "source": [
    "# Topics"
   ],
   "metadata": {
    "collapsed": false
   }
  },
  {
   "cell_type": "code",
   "execution_count": 13,
   "outputs": [
    {
     "data": {
      "text/plain": "  0%|          | 0/27572 [00:00<?, ?it/s]",
      "application/vnd.jupyter.widget-view+json": {
       "version_major": 2,
       "version_minor": 0,
       "model_id": "7d26b44d7f0e498eba198fdc12c3e78f"
      }
     },
     "metadata": {},
     "output_type": "display_data"
    },
    {
     "data": {
      "text/plain": "  0%|          | 0/27572 [00:00<?, ?it/s]",
      "application/vnd.jupyter.widget-view+json": {
       "version_major": 2,
       "version_minor": 0,
       "model_id": "41db34c4458d440aa8d6b53eb483c585"
      }
     },
     "metadata": {},
     "output_type": "display_data"
    },
    {
     "data": {
      "text/plain": "    column_id                      topic\n0  B01001_001  survey_types/demographics\n1  B01001_002  survey_types/demographics\n2  B01001_002                 people/sex\n3  B01001_003  survey_types/demographics\n4  B01001_003                 people/age",
      "text/html": "<div>\n<style scoped>\n    .dataframe tbody tr th:only-of-type {\n        vertical-align: middle;\n    }\n\n    .dataframe tbody tr th {\n        vertical-align: top;\n    }\n\n    .dataframe thead th {\n        text-align: right;\n    }\n</style>\n<table border=\"1\" class=\"dataframe\">\n  <thead>\n    <tr style=\"text-align: right;\">\n      <th></th>\n      <th>column_id</th>\n      <th>topic</th>\n    </tr>\n  </thead>\n  <tbody>\n    <tr>\n      <th>0</th>\n      <td>B01001_001</td>\n      <td>survey_types/demographics</td>\n    </tr>\n    <tr>\n      <th>1</th>\n      <td>B01001_002</td>\n      <td>survey_types/demographics</td>\n    </tr>\n    <tr>\n      <th>2</th>\n      <td>B01001_002</td>\n      <td>people/sex</td>\n    </tr>\n    <tr>\n      <th>3</th>\n      <td>B01001_003</td>\n      <td>survey_types/demographics</td>\n    </tr>\n    <tr>\n      <th>4</th>\n      <td>B01001_003</td>\n      <td>people/age</td>\n    </tr>\n  </tbody>\n</table>\n</div>"
     },
     "execution_count": 13,
     "metadata": {},
     "output_type": "execute_result"
    }
   ],
   "source": [
    "from pylib.topics import find_topics, compile_topics\n",
    "from pathlib import Path\n",
    "from researchrobot.topics import TopicCategorizer\n",
    "\n",
    "topics_dir = Path.cwd().parent.joinpath('cache/topics')\n",
    "\n",
    "tc = TopicCategorizer()\n",
    "\n",
    "t = mdf[mdf.bare_title != '']\n",
    "\n",
    "find_topics(topics_dir,tc, t) # Calls into OpenAI and caches the results\n",
    "topics_df =  compile_topics(topics_dir, t)\n",
    "\n",
    "topics_df.head()"
   ],
   "metadata": {
    "collapsed": false
   }
  },
  {
   "cell_type": "code",
   "execution_count": 14,
   "outputs": [
    {
     "data": {
      "text/plain": "(139031, 2)"
     },
     "execution_count": 14,
     "metadata": {},
     "output_type": "execute_result"
    }
   ],
   "source": [
    "topics_df.shape"
   ],
   "metadata": {
    "collapsed": false
   }
  },
  {
   "cell_type": "code",
   "execution_count": null,
   "outputs": [],
   "source": [],
   "metadata": {
    "collapsed": false
   }
  }
 ],
 "metadata": {
  "kernelspec": {
   "display_name": "Python 3 (ipykernel)",
   "language": "python",
   "name": "python3"
  },
  "language_info": {
   "codemirror_mode": {
    "name": "ipython",
    "version": 3
   },
   "file_extension": ".py",
   "mimetype": "text/x-python",
   "name": "python",
   "nbconvert_exporter": "python",
   "pygments_lexer": "ipython3",
   "version": "3.10.6"
  }
 },
 "nbformat": 4,
 "nbformat_minor": 4
}
