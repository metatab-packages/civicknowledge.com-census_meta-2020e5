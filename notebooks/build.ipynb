{
 "cells": [
  {
   "cell_type": "code",
   "execution_count": 1,
   "metadata": {},
   "outputs": [],
   "source": [
    "%load_ext autoreload\n",
    "%autoreload 2\n",
    "\n",
    "import metapack as mp\n",
    "import pandas as pd\n",
    "import numpy as np\n",
    "import matplotlib.pyplot as plt\n",
    "from IPython.display import display \n",
    "\n",
    "from publicdata.census.files.metafiles import TableLookup\n",
    "import shelve \n",
    "\n",
    "%matplotlib inline\n",
    "\n",
    "mp.jupyter.init()\n"
   ]
  },
  {
   "cell_type": "code",
   "execution_count": 2,
   "metadata": {},
   "outputs": [
    {
     "data": {
      "text/plain": "# Metadata for the 2020 ACS\n`civicknowledge.com-census_meta-2020e5-3.1.3` Last Update: 2023-04-10T17:03:42\n\n_Deatilsed metadata for ACS releases._\n\n\n\n\n \n\n## Contacts\n\n* **Wrangler** [Eric Busboom](mailto:eric@civicknowledge.com), [Civic Knowledge](http://civicknowledge.com)\n\n## Resources\n\n* **[metadata](notebooks/build.ipynb#mdf)**. Combined columns and tables\n* **[tables](notebooks/build.ipynb#tdf)**. \n* **[columns](notebooks/build.ipynb#cdf)**. \n",
      "text/html": "<h1>Metadata for the 2020 ACS</h1>\n<p><code>civicknowledge.com-census_meta-2020e5-3.1.3</code> Last Update: 2023-04-10T17:03:42</p>\n<p><em>Deatilsed metadata for ACS releases.</em></p>\n<h2>Contacts</h2>\n<ul>\n<li><strong>Wrangler</strong> <a href=\"mailto:eric@civicknowledge.com\">Eric Busboom</a>, <a href=\"http://civicknowledge.com\">Civic Knowledge</a></li>\n</ul>\n<h2>Resources</h2>\n<ul>\n<li><strong><a href=\"notebooks/build.ipynb#mdf\">metadata</a></strong>. Combined columns and tables</li>\n<li><strong><a href=\"notebooks/build.ipynb#tdf\">tables</a></strong>. </li>\n<li><strong><a href=\"notebooks/build.ipynb#cdf\">columns</a></strong>. </li>\n</ul>"
     },
     "execution_count": 2,
     "metadata": {},
     "output_type": "execute_result"
    }
   ],
   "source": [
    "#pkg = mp.jupyter.open_package()\n",
    "pkg = mp.jupyter.open_source_package()\n",
    "\n",
    "# Setup importing form this package\n",
    "pkg.set_sys_path()\n",
    "import pylib # Import the code for the package\n",
    "from pylib.census_path_processing import * \n",
    "\n",
    "pkg"
   ]
  },
  {
   "cell_type": "code",
   "execution_count": 3,
   "metadata": {},
   "outputs": [],
   "source": [
    "year = 2020\n",
    "release = 5\n",
    "\n",
    "tl = TableLookup(year, release)\n",
    "tdf = tl.tables_df\n",
    "cdf = tl.columns_df"
   ]
  },
  {
   "cell_type": "code",
   "execution_count": 4,
   "outputs": [
    {
     "data": {
      "text/plain": "    table_id    seq  n_seg  start_pos  \\\n366  B13002G   [39]      1         68   \n804   B25020  [118]      1         38   \n128  B07004I   [16]      1        103   \n512   B19001   [58]      1          7   \n901   B25115  [123]      1        125   \n53   B05003H    [8]      1          7   \n515  B19001C   [58]      1         58   \n237   B08406   [28]      1          7   \n407  C15010A   [43]      1         68   \n514  B19001B   [58]      1         41   \n\n                                                 title  \\\n366  Women 15 To 50 Years Who Had A Birth In The Pa...   \n804                                    Tenure By Rooms   \n128  Geographical Mobility In The Past Year (Hispan...   \n512  Household Income In The Past 12 Months (In 202...   \n901  Tenure By Household Type And Presence And Age ...   \n53   Sex By Age By Nativity And Citizenship Status ...   \n515  Household Income In The Past 12 Months (In 202...   \n237  Sex Of Workers By Means Of Transportation To W...   \n407  Field Of Bachelor'S Degree For First Major The...   \n514  Household Income In The Past 12 Months (In 202...   \n\n                               bare_title  \\\n366  Women 15 To 50 Years Who Had A Birth   \n804                                Tenure   \n128                 Geographical Mobility   \n512                      Household Income   \n901                                Tenure   \n53        Nativity And Citizenship Status   \n515                      Household Income   \n237                        Sex Of Workers   \n407            Field Of Bachelor'S Degree   \n514                      Household Income   \n\n                                              universe  \\\n366             Two or more races women 15 to 50 years   \n804                             Occupied housing units   \n128  Hispanic or Latino population 1 year and over ...   \n512                                         Households   \n901                             Occupied housing units   \n53      White alone, not Hispanic or Latino population   \n515  Households with a householder who is American ...   \n237                          Workers 16 years and over   \n407  WHITE ALONE POPULATION 25 YEARS AND OVER WITH ...   \n514  Households with a householder who is Black or ...   \n\n                             subject      age  age_range  ... ft_employed  \\\n366                        Fertility  015-050   (15, 50)  ...        None   \n804                          Housing      all       None  ...        None   \n128  Residence Last Year - Migration  001-120   (1, 120)  ...        None   \n512                           Income      all       None  ...        None   \n901                          Housing      all       None  ...        None   \n53                     Foreign Birth      all       None  ...        None   \n515                           Income      all       None  ...        None   \n237                  Journey to Work  016-120  (16, 120)  ...        None   \n407           Educational Attainment  025-120  (25, 120)  ...        None   \n514                           Income      all       None  ...        None   \n\n    group_quarters household  family grand_pc opposite_sex marital_status  \\\n366           None      None    None     None         None           None   \n804           None      None    None     None         None           None   \n128           None      None    None     None         None           None   \n512           None      True    None     None         None           None   \n901           None      None    None     None         None           None   \n53            None      None    None     None         None           None   \n515           None      True    None     None         None           None   \n237           None      None    None     None         None           None   \n407           None      None    None     None         None           None   \n514           None      True    None     None         None           None   \n\n    housing tenure redundant_paths  \n366    None   None           False  \n804    True   None           False  \n128    None   None           False  \n512    None   None           False  \n901    True   None           False  \n53     None   None           False  \n515    None   None           False  \n237    None   None           False  \n407    None   None           False  \n514    None   None           False  \n\n[10 rows x 30 columns]",
      "text/html": "<div>\n<style scoped>\n    .dataframe tbody tr th:only-of-type {\n        vertical-align: middle;\n    }\n\n    .dataframe tbody tr th {\n        vertical-align: top;\n    }\n\n    .dataframe thead th {\n        text-align: right;\n    }\n</style>\n<table border=\"1\" class=\"dataframe\">\n  <thead>\n    <tr style=\"text-align: right;\">\n      <th></th>\n      <th>table_id</th>\n      <th>seq</th>\n      <th>n_seg</th>\n      <th>start_pos</th>\n      <th>title</th>\n      <th>bare_title</th>\n      <th>universe</th>\n      <th>subject</th>\n      <th>age</th>\n      <th>age_range</th>\n      <th>...</th>\n      <th>ft_employed</th>\n      <th>group_quarters</th>\n      <th>household</th>\n      <th>family</th>\n      <th>grand_pc</th>\n      <th>opposite_sex</th>\n      <th>marital_status</th>\n      <th>housing</th>\n      <th>tenure</th>\n      <th>redundant_paths</th>\n    </tr>\n  </thead>\n  <tbody>\n    <tr>\n      <th>366</th>\n      <td>B13002G</td>\n      <td>[39]</td>\n      <td>1</td>\n      <td>68</td>\n      <td>Women 15 To 50 Years Who Had A Birth In The Pa...</td>\n      <td>Women 15 To 50 Years Who Had A Birth</td>\n      <td>Two or more races women 15 to 50 years</td>\n      <td>Fertility</td>\n      <td>015-050</td>\n      <td>(15, 50)</td>\n      <td>...</td>\n      <td>None</td>\n      <td>None</td>\n      <td>None</td>\n      <td>None</td>\n      <td>None</td>\n      <td>None</td>\n      <td>None</td>\n      <td>None</td>\n      <td>None</td>\n      <td>False</td>\n    </tr>\n    <tr>\n      <th>804</th>\n      <td>B25020</td>\n      <td>[118]</td>\n      <td>1</td>\n      <td>38</td>\n      <td>Tenure By Rooms</td>\n      <td>Tenure</td>\n      <td>Occupied housing units</td>\n      <td>Housing</td>\n      <td>all</td>\n      <td>None</td>\n      <td>...</td>\n      <td>None</td>\n      <td>None</td>\n      <td>None</td>\n      <td>None</td>\n      <td>None</td>\n      <td>None</td>\n      <td>None</td>\n      <td>True</td>\n      <td>None</td>\n      <td>False</td>\n    </tr>\n    <tr>\n      <th>128</th>\n      <td>B07004I</td>\n      <td>[16]</td>\n      <td>1</td>\n      <td>103</td>\n      <td>Geographical Mobility In The Past Year (Hispan...</td>\n      <td>Geographical Mobility</td>\n      <td>Hispanic or Latino population 1 year and over ...</td>\n      <td>Residence Last Year - Migration</td>\n      <td>001-120</td>\n      <td>(1, 120)</td>\n      <td>...</td>\n      <td>None</td>\n      <td>None</td>\n      <td>None</td>\n      <td>None</td>\n      <td>None</td>\n      <td>None</td>\n      <td>None</td>\n      <td>None</td>\n      <td>None</td>\n      <td>False</td>\n    </tr>\n    <tr>\n      <th>512</th>\n      <td>B19001</td>\n      <td>[58]</td>\n      <td>1</td>\n      <td>7</td>\n      <td>Household Income In The Past 12 Months (In 202...</td>\n      <td>Household Income</td>\n      <td>Households</td>\n      <td>Income</td>\n      <td>all</td>\n      <td>None</td>\n      <td>...</td>\n      <td>None</td>\n      <td>None</td>\n      <td>True</td>\n      <td>None</td>\n      <td>None</td>\n      <td>None</td>\n      <td>None</td>\n      <td>None</td>\n      <td>None</td>\n      <td>False</td>\n    </tr>\n    <tr>\n      <th>901</th>\n      <td>B25115</td>\n      <td>[123]</td>\n      <td>1</td>\n      <td>125</td>\n      <td>Tenure By Household Type And Presence And Age ...</td>\n      <td>Tenure</td>\n      <td>Occupied housing units</td>\n      <td>Housing</td>\n      <td>all</td>\n      <td>None</td>\n      <td>...</td>\n      <td>None</td>\n      <td>None</td>\n      <td>None</td>\n      <td>None</td>\n      <td>None</td>\n      <td>None</td>\n      <td>None</td>\n      <td>True</td>\n      <td>None</td>\n      <td>False</td>\n    </tr>\n    <tr>\n      <th>53</th>\n      <td>B05003H</td>\n      <td>[8]</td>\n      <td>1</td>\n      <td>7</td>\n      <td>Sex By Age By Nativity And Citizenship Status ...</td>\n      <td>Nativity And Citizenship Status</td>\n      <td>White alone, not Hispanic or Latino population</td>\n      <td>Foreign Birth</td>\n      <td>all</td>\n      <td>None</td>\n      <td>...</td>\n      <td>None</td>\n      <td>None</td>\n      <td>None</td>\n      <td>None</td>\n      <td>None</td>\n      <td>None</td>\n      <td>None</td>\n      <td>None</td>\n      <td>None</td>\n      <td>False</td>\n    </tr>\n    <tr>\n      <th>515</th>\n      <td>B19001C</td>\n      <td>[58]</td>\n      <td>1</td>\n      <td>58</td>\n      <td>Household Income In The Past 12 Months (In 202...</td>\n      <td>Household Income</td>\n      <td>Households with a householder who is American ...</td>\n      <td>Income</td>\n      <td>all</td>\n      <td>None</td>\n      <td>...</td>\n      <td>None</td>\n      <td>None</td>\n      <td>True</td>\n      <td>None</td>\n      <td>None</td>\n      <td>None</td>\n      <td>None</td>\n      <td>None</td>\n      <td>None</td>\n      <td>False</td>\n    </tr>\n    <tr>\n      <th>237</th>\n      <td>B08406</td>\n      <td>[28]</td>\n      <td>1</td>\n      <td>7</td>\n      <td>Sex Of Workers By Means Of Transportation To W...</td>\n      <td>Sex Of Workers</td>\n      <td>Workers 16 years and over</td>\n      <td>Journey to Work</td>\n      <td>016-120</td>\n      <td>(16, 120)</td>\n      <td>...</td>\n      <td>None</td>\n      <td>None</td>\n      <td>None</td>\n      <td>None</td>\n      <td>None</td>\n      <td>None</td>\n      <td>None</td>\n      <td>None</td>\n      <td>None</td>\n      <td>False</td>\n    </tr>\n    <tr>\n      <th>407</th>\n      <td>C15010A</td>\n      <td>[43]</td>\n      <td>1</td>\n      <td>68</td>\n      <td>Field Of Bachelor'S Degree For First Major The...</td>\n      <td>Field Of Bachelor'S Degree</td>\n      <td>WHITE ALONE POPULATION 25 YEARS AND OVER WITH ...</td>\n      <td>Educational Attainment</td>\n      <td>025-120</td>\n      <td>(25, 120)</td>\n      <td>...</td>\n      <td>None</td>\n      <td>None</td>\n      <td>None</td>\n      <td>None</td>\n      <td>None</td>\n      <td>None</td>\n      <td>None</td>\n      <td>None</td>\n      <td>None</td>\n      <td>False</td>\n    </tr>\n    <tr>\n      <th>514</th>\n      <td>B19001B</td>\n      <td>[58]</td>\n      <td>1</td>\n      <td>41</td>\n      <td>Household Income In The Past 12 Months (In 202...</td>\n      <td>Household Income</td>\n      <td>Households with a householder who is Black or ...</td>\n      <td>Income</td>\n      <td>all</td>\n      <td>None</td>\n      <td>...</td>\n      <td>None</td>\n      <td>None</td>\n      <td>True</td>\n      <td>None</td>\n      <td>None</td>\n      <td>None</td>\n      <td>None</td>\n      <td>None</td>\n      <td>None</td>\n      <td>False</td>\n    </tr>\n  </tbody>\n</table>\n<p>10 rows × 30 columns</p>\n</div>"
     },
     "execution_count": 4,
     "metadata": {},
     "output_type": "execute_result"
    }
   ],
   "source": [
    "tl = TableLookup(year, release)\n",
    "tdf = tl.tables_df\n",
    "tdf.sample(10)"
   ],
   "metadata": {
    "collapsed": false
   }
  },
  {
   "cell_type": "code",
   "execution_count": 5,
   "outputs": [
    {
     "data": {
      "text/plain": "          column_id  table_id                                 name     sex  \\\n21782    B24135_153    B24135  Other direct selling establishments     all   \n22712    B25041_005    B25041                           3 bedrooms     all   \n13126   B20005A_048   B20005A                     $100,000 or more    male   \n24690    B26104_024    B26104                             Divorced     all   \n7702     B14002_027    B14002                   Enrolled in school  female   \n2913   B07008PR_016  B07008PR                             Divorced     all   \n6231     B08541_030    B08541         3 or more vehicles available     all   \n6072     B08534_024    B08534                     15 to 19 minutes     all   \n2917   B07008PR_020  B07008PR                        Never married     all   \n23110    B25075_018    B25075                 $175,000 to $199,999     all   \n\n        race  age age_range  min_age  max_age poverty_status  \\\n21782    all  all      None        0      120           None   \n22712    all  all      None        0      120           None   \n13126  white  all      None        0      120           None   \n24690    all  all      None        0      120           None   \n7702     all  all      None        0      120           None   \n2913     all  all      None        0      120           None   \n6231     all  all      None        0      120           None   \n6072     all  all      None        0      120           None   \n2917     all  all      None        0      120           None   \n23110    all  all      None        0      120           None   \n\n                                                    path  \\\n21782         /total/other direct selling establishments   \n22712                                  /total/3 bedrooms   \n13126   /total/male/other/with earnings/$100,000 or more   \n24690  /total/group quarters population/institutional...   \n7702                    /total/female/enrolled in school   \n2913         /total/moved within same municipio/divorced   \n6231   /total/taxicab, motorcycle, bicycle, or other ...   \n6072   /total/car, truck, or van/drove alone/15 to 19...   \n2917   /total/moved from different municipio/never ma...   \n23110                        /total/$175,000 to $199,999   \n\n                                           filtered_path citizen employed  \\\n21782               /other direct selling establishments    None     None   \n22712                                        /3 bedrooms    None     None   \n13126                            /other/$100,000 or more    None     None   \n24690                                                       None     None   \n7702                                 /enrolled in school    None     None   \n2913                        /moved within same municipio    None     None   \n6231   /taxicab, motorcycle, bicycle, or other means/...    None     None   \n6072    /car, truck, or van/drove alone/15 to 19 minutes    None     None   \n2917                     /moved from different municipio    None     None   \n23110                              /$175,000 to $199,999    None     None   \n\n      family foreign_born group_quarters has_income marital_status tenure  \n21782   None         None           None       None           None   None  \n22712   None         None           None       None           None   None  \n13126   None         None           None       True           None   None  \n24690   None         None   correctional       None       divorced   None  \n7702    None         None           None       None           None   None  \n2913    None         None           None       None       divorced   None  \n6231    None         None           None       None           None   None  \n6072    None         None           None       None           None   None  \n2917    None         None           None       None          never   None  \n23110   None         None           None       None           None   None  ",
      "text/html": "<div>\n<style scoped>\n    .dataframe tbody tr th:only-of-type {\n        vertical-align: middle;\n    }\n\n    .dataframe tbody tr th {\n        vertical-align: top;\n    }\n\n    .dataframe thead th {\n        text-align: right;\n    }\n</style>\n<table border=\"1\" class=\"dataframe\">\n  <thead>\n    <tr style=\"text-align: right;\">\n      <th></th>\n      <th>column_id</th>\n      <th>table_id</th>\n      <th>name</th>\n      <th>sex</th>\n      <th>race</th>\n      <th>age</th>\n      <th>age_range</th>\n      <th>min_age</th>\n      <th>max_age</th>\n      <th>poverty_status</th>\n      <th>path</th>\n      <th>filtered_path</th>\n      <th>citizen</th>\n      <th>employed</th>\n      <th>family</th>\n      <th>foreign_born</th>\n      <th>group_quarters</th>\n      <th>has_income</th>\n      <th>marital_status</th>\n      <th>tenure</th>\n    </tr>\n  </thead>\n  <tbody>\n    <tr>\n      <th>21782</th>\n      <td>B24135_153</td>\n      <td>B24135</td>\n      <td>Other direct selling establishments</td>\n      <td>all</td>\n      <td>all</td>\n      <td>all</td>\n      <td>None</td>\n      <td>0</td>\n      <td>120</td>\n      <td>None</td>\n      <td>/total/other direct selling establishments</td>\n      <td>/other direct selling establishments</td>\n      <td>None</td>\n      <td>None</td>\n      <td>None</td>\n      <td>None</td>\n      <td>None</td>\n      <td>None</td>\n      <td>None</td>\n      <td>None</td>\n    </tr>\n    <tr>\n      <th>22712</th>\n      <td>B25041_005</td>\n      <td>B25041</td>\n      <td>3 bedrooms</td>\n      <td>all</td>\n      <td>all</td>\n      <td>all</td>\n      <td>None</td>\n      <td>0</td>\n      <td>120</td>\n      <td>None</td>\n      <td>/total/3 bedrooms</td>\n      <td>/3 bedrooms</td>\n      <td>None</td>\n      <td>None</td>\n      <td>None</td>\n      <td>None</td>\n      <td>None</td>\n      <td>None</td>\n      <td>None</td>\n      <td>None</td>\n    </tr>\n    <tr>\n      <th>13126</th>\n      <td>B20005A_048</td>\n      <td>B20005A</td>\n      <td>$100,000 or more</td>\n      <td>male</td>\n      <td>white</td>\n      <td>all</td>\n      <td>None</td>\n      <td>0</td>\n      <td>120</td>\n      <td>None</td>\n      <td>/total/male/other/with earnings/$100,000 or more</td>\n      <td>/other/$100,000 or more</td>\n      <td>None</td>\n      <td>None</td>\n      <td>None</td>\n      <td>None</td>\n      <td>None</td>\n      <td>True</td>\n      <td>None</td>\n      <td>None</td>\n    </tr>\n    <tr>\n      <th>24690</th>\n      <td>B26104_024</td>\n      <td>B26104</td>\n      <td>Divorced</td>\n      <td>all</td>\n      <td>all</td>\n      <td>all</td>\n      <td>None</td>\n      <td>0</td>\n      <td>120</td>\n      <td>None</td>\n      <td>/total/group quarters population/institutional...</td>\n      <td></td>\n      <td>None</td>\n      <td>None</td>\n      <td>None</td>\n      <td>None</td>\n      <td>correctional</td>\n      <td>None</td>\n      <td>divorced</td>\n      <td>None</td>\n    </tr>\n    <tr>\n      <th>7702</th>\n      <td>B14002_027</td>\n      <td>B14002</td>\n      <td>Enrolled in school</td>\n      <td>female</td>\n      <td>all</td>\n      <td>all</td>\n      <td>None</td>\n      <td>0</td>\n      <td>120</td>\n      <td>None</td>\n      <td>/total/female/enrolled in school</td>\n      <td>/enrolled in school</td>\n      <td>None</td>\n      <td>None</td>\n      <td>None</td>\n      <td>None</td>\n      <td>None</td>\n      <td>None</td>\n      <td>None</td>\n      <td>None</td>\n    </tr>\n    <tr>\n      <th>2913</th>\n      <td>B07008PR_016</td>\n      <td>B07008PR</td>\n      <td>Divorced</td>\n      <td>all</td>\n      <td>all</td>\n      <td>all</td>\n      <td>None</td>\n      <td>0</td>\n      <td>120</td>\n      <td>None</td>\n      <td>/total/moved within same municipio/divorced</td>\n      <td>/moved within same municipio</td>\n      <td>None</td>\n      <td>None</td>\n      <td>None</td>\n      <td>None</td>\n      <td>None</td>\n      <td>None</td>\n      <td>divorced</td>\n      <td>None</td>\n    </tr>\n    <tr>\n      <th>6231</th>\n      <td>B08541_030</td>\n      <td>B08541</td>\n      <td>3 or more vehicles available</td>\n      <td>all</td>\n      <td>all</td>\n      <td>all</td>\n      <td>None</td>\n      <td>0</td>\n      <td>120</td>\n      <td>None</td>\n      <td>/total/taxicab, motorcycle, bicycle, or other ...</td>\n      <td>/taxicab, motorcycle, bicycle, or other means/...</td>\n      <td>None</td>\n      <td>None</td>\n      <td>None</td>\n      <td>None</td>\n      <td>None</td>\n      <td>None</td>\n      <td>None</td>\n      <td>None</td>\n    </tr>\n    <tr>\n      <th>6072</th>\n      <td>B08534_024</td>\n      <td>B08534</td>\n      <td>15 to 19 minutes</td>\n      <td>all</td>\n      <td>all</td>\n      <td>all</td>\n      <td>None</td>\n      <td>0</td>\n      <td>120</td>\n      <td>None</td>\n      <td>/total/car, truck, or van/drove alone/15 to 19...</td>\n      <td>/car, truck, or van/drove alone/15 to 19 minutes</td>\n      <td>None</td>\n      <td>None</td>\n      <td>None</td>\n      <td>None</td>\n      <td>None</td>\n      <td>None</td>\n      <td>None</td>\n      <td>None</td>\n    </tr>\n    <tr>\n      <th>2917</th>\n      <td>B07008PR_020</td>\n      <td>B07008PR</td>\n      <td>Never married</td>\n      <td>all</td>\n      <td>all</td>\n      <td>all</td>\n      <td>None</td>\n      <td>0</td>\n      <td>120</td>\n      <td>None</td>\n      <td>/total/moved from different municipio/never ma...</td>\n      <td>/moved from different municipio</td>\n      <td>None</td>\n      <td>None</td>\n      <td>None</td>\n      <td>None</td>\n      <td>None</td>\n      <td>None</td>\n      <td>never</td>\n      <td>None</td>\n    </tr>\n    <tr>\n      <th>23110</th>\n      <td>B25075_018</td>\n      <td>B25075</td>\n      <td>$175,000 to $199,999</td>\n      <td>all</td>\n      <td>all</td>\n      <td>all</td>\n      <td>None</td>\n      <td>0</td>\n      <td>120</td>\n      <td>None</td>\n      <td>/total/$175,000 to $199,999</td>\n      <td>/$175,000 to $199,999</td>\n      <td>None</td>\n      <td>None</td>\n      <td>None</td>\n      <td>None</td>\n      <td>None</td>\n      <td>None</td>\n      <td>None</td>\n      <td>None</td>\n    </tr>\n  </tbody>\n</table>\n</div>"
     },
     "execution_count": 5,
     "metadata": {},
     "output_type": "execute_result"
    }
   ],
   "source": [
    "tl = TableLookup(year, release)\n",
    "cdf = tl.columns_df\n",
    "cdf.sample(10)"
   ],
   "metadata": {
    "collapsed": false
   }
  },
  {
   "cell_type": "code",
   "execution_count": 6,
   "outputs": [
    {
     "name": "stdout",
     "output_type": "stream",
     "text": [
      "128\n"
     ]
    },
    {
     "data": {
      "text/plain": "    table_id   column_id             col             table_val  \\\n68    B26115  B26115_013  group_quarters               college   \n43    B23003  B23003_018       age_range               (6, 17)   \n32    B23003  B23003_013             age               006-017   \n64    B23003  B23003_029             age               000-018   \n25    B23003  B23003_009       age_range               (0, 18)   \n2     B05005  B05005_013    foreign_born                 False   \n69    B26115  B26115_014  group_quarters               college   \n118   B26220  B26220_021  group_quarters               college   \n60    B23003  B23003_027             age               000-018   \n56    B23003  B23003_025             age               000-018   \n15    B23003  B23003_004       age_range               (0, 18)   \n45    B23003  B23003_019       age_range               (6, 17)   \n53    B23003  B23003_023       age_range               (6, 17)   \n78    B26120  B26120_008  group_quarters          correctional   \n19    B23003  B23003_006       age_range               (0, 18)   \n66    B23003  B23003_030             age               000-018   \n52    B23003  B23003_023             age               006-017   \n13    B23003  B23003_003       age_range               (0, 18)   \n63    B23003  B23003_028       age_range               (0, 18)   \n39    B23003  B23003_016       age_range               (6, 17)   \n124   B99052  B99052_004    foreign_born                 False   \n42    B23003  B23003_018             age               006-017   \n83    B26120  B26120_013  group_quarters  noninstitutionalized   \n38    B23003  B23003_016             age               006-017   \n10    B23003  B23003_002             age               000-018   \n65    B23003  B23003_029       age_range               (0, 18)   \n93    B26215  B26215_017  group_quarters               college   \n49    B23003  B23003_021       age_range               (6, 17)   \n46    B23003  B23003_020             age               006-017   \n51    B23003  B23003_022       age_range               (6, 17)   \n80    B26120  B26120_010  group_quarters               nursing   \n116   B26220  B26220_019  group_quarters               college   \n34    B23003  B23003_014             age               006-017   \n57    B23003  B23003_025       age_range               (0, 18)   \n74    B26120  B26120_004  group_quarters     institutionalized   \n71    B26115  B26115_016  group_quarters               college   \n101   B26220  B26220_004  group_quarters     institutionalized   \n115   B26220  B26220_018  group_quarters  noninstitutionalized   \n29    B23003  B23003_011       age_range               (6, 17)   \n104   B26220  B26220_007  group_quarters          correctional   \n\n                  col_val  \n68   noninstitutionalized  \n43               (20, 64)  \n32                020-064  \n64                020-064  \n25               (20, 64)  \n2                    True  \n69   noninstitutionalized  \n118        group_quarters  \n60                020-064  \n56                020-064  \n15               (20, 64)  \n45               (20, 64)  \n53               (20, 64)  \n78         group_quarters  \n19               (20, 64)  \n66                020-064  \n52                020-064  \n13               (20, 64)  \n63               (20, 64)  \n39               (20, 64)  \n124                  True  \n42                020-064  \n83         group_quarters  \n38                020-064  \n10                020-064  \n65               (20, 64)  \n93   noninstitutionalized  \n49               (20, 64)  \n46                020-064  \n51               (20, 64)  \n80         group_quarters  \n116        group_quarters  \n34                020-064  \n57               (20, 64)  \n74         group_quarters  \n71   noninstitutionalized  \n101        group_quarters  \n115        group_quarters  \n29               (20, 64)  \n104        group_quarters  ",
      "text/html": "<div>\n<style scoped>\n    .dataframe tbody tr th:only-of-type {\n        vertical-align: middle;\n    }\n\n    .dataframe tbody tr th {\n        vertical-align: top;\n    }\n\n    .dataframe thead th {\n        text-align: right;\n    }\n</style>\n<table border=\"1\" class=\"dataframe\">\n  <thead>\n    <tr style=\"text-align: right;\">\n      <th></th>\n      <th>table_id</th>\n      <th>column_id</th>\n      <th>col</th>\n      <th>table_val</th>\n      <th>col_val</th>\n    </tr>\n  </thead>\n  <tbody>\n    <tr>\n      <th>68</th>\n      <td>B26115</td>\n      <td>B26115_013</td>\n      <td>group_quarters</td>\n      <td>college</td>\n      <td>noninstitutionalized</td>\n    </tr>\n    <tr>\n      <th>43</th>\n      <td>B23003</td>\n      <td>B23003_018</td>\n      <td>age_range</td>\n      <td>(6, 17)</td>\n      <td>(20, 64)</td>\n    </tr>\n    <tr>\n      <th>32</th>\n      <td>B23003</td>\n      <td>B23003_013</td>\n      <td>age</td>\n      <td>006-017</td>\n      <td>020-064</td>\n    </tr>\n    <tr>\n      <th>64</th>\n      <td>B23003</td>\n      <td>B23003_029</td>\n      <td>age</td>\n      <td>000-018</td>\n      <td>020-064</td>\n    </tr>\n    <tr>\n      <th>25</th>\n      <td>B23003</td>\n      <td>B23003_009</td>\n      <td>age_range</td>\n      <td>(0, 18)</td>\n      <td>(20, 64)</td>\n    </tr>\n    <tr>\n      <th>2</th>\n      <td>B05005</td>\n      <td>B05005_013</td>\n      <td>foreign_born</td>\n      <td>False</td>\n      <td>True</td>\n    </tr>\n    <tr>\n      <th>69</th>\n      <td>B26115</td>\n      <td>B26115_014</td>\n      <td>group_quarters</td>\n      <td>college</td>\n      <td>noninstitutionalized</td>\n    </tr>\n    <tr>\n      <th>118</th>\n      <td>B26220</td>\n      <td>B26220_021</td>\n      <td>group_quarters</td>\n      <td>college</td>\n      <td>group_quarters</td>\n    </tr>\n    <tr>\n      <th>60</th>\n      <td>B23003</td>\n      <td>B23003_027</td>\n      <td>age</td>\n      <td>000-018</td>\n      <td>020-064</td>\n    </tr>\n    <tr>\n      <th>56</th>\n      <td>B23003</td>\n      <td>B23003_025</td>\n      <td>age</td>\n      <td>000-018</td>\n      <td>020-064</td>\n    </tr>\n    <tr>\n      <th>15</th>\n      <td>B23003</td>\n      <td>B23003_004</td>\n      <td>age_range</td>\n      <td>(0, 18)</td>\n      <td>(20, 64)</td>\n    </tr>\n    <tr>\n      <th>45</th>\n      <td>B23003</td>\n      <td>B23003_019</td>\n      <td>age_range</td>\n      <td>(6, 17)</td>\n      <td>(20, 64)</td>\n    </tr>\n    <tr>\n      <th>53</th>\n      <td>B23003</td>\n      <td>B23003_023</td>\n      <td>age_range</td>\n      <td>(6, 17)</td>\n      <td>(20, 64)</td>\n    </tr>\n    <tr>\n      <th>78</th>\n      <td>B26120</td>\n      <td>B26120_008</td>\n      <td>group_quarters</td>\n      <td>correctional</td>\n      <td>group_quarters</td>\n    </tr>\n    <tr>\n      <th>19</th>\n      <td>B23003</td>\n      <td>B23003_006</td>\n      <td>age_range</td>\n      <td>(0, 18)</td>\n      <td>(20, 64)</td>\n    </tr>\n    <tr>\n      <th>66</th>\n      <td>B23003</td>\n      <td>B23003_030</td>\n      <td>age</td>\n      <td>000-018</td>\n      <td>020-064</td>\n    </tr>\n    <tr>\n      <th>52</th>\n      <td>B23003</td>\n      <td>B23003_023</td>\n      <td>age</td>\n      <td>006-017</td>\n      <td>020-064</td>\n    </tr>\n    <tr>\n      <th>13</th>\n      <td>B23003</td>\n      <td>B23003_003</td>\n      <td>age_range</td>\n      <td>(0, 18)</td>\n      <td>(20, 64)</td>\n    </tr>\n    <tr>\n      <th>63</th>\n      <td>B23003</td>\n      <td>B23003_028</td>\n      <td>age_range</td>\n      <td>(0, 18)</td>\n      <td>(20, 64)</td>\n    </tr>\n    <tr>\n      <th>39</th>\n      <td>B23003</td>\n      <td>B23003_016</td>\n      <td>age_range</td>\n      <td>(6, 17)</td>\n      <td>(20, 64)</td>\n    </tr>\n    <tr>\n      <th>124</th>\n      <td>B99052</td>\n      <td>B99052_004</td>\n      <td>foreign_born</td>\n      <td>False</td>\n      <td>True</td>\n    </tr>\n    <tr>\n      <th>42</th>\n      <td>B23003</td>\n      <td>B23003_018</td>\n      <td>age</td>\n      <td>006-017</td>\n      <td>020-064</td>\n    </tr>\n    <tr>\n      <th>83</th>\n      <td>B26120</td>\n      <td>B26120_013</td>\n      <td>group_quarters</td>\n      <td>noninstitutionalized</td>\n      <td>group_quarters</td>\n    </tr>\n    <tr>\n      <th>38</th>\n      <td>B23003</td>\n      <td>B23003_016</td>\n      <td>age</td>\n      <td>006-017</td>\n      <td>020-064</td>\n    </tr>\n    <tr>\n      <th>10</th>\n      <td>B23003</td>\n      <td>B23003_002</td>\n      <td>age</td>\n      <td>000-018</td>\n      <td>020-064</td>\n    </tr>\n    <tr>\n      <th>65</th>\n      <td>B23003</td>\n      <td>B23003_029</td>\n      <td>age_range</td>\n      <td>(0, 18)</td>\n      <td>(20, 64)</td>\n    </tr>\n    <tr>\n      <th>93</th>\n      <td>B26215</td>\n      <td>B26215_017</td>\n      <td>group_quarters</td>\n      <td>college</td>\n      <td>noninstitutionalized</td>\n    </tr>\n    <tr>\n      <th>49</th>\n      <td>B23003</td>\n      <td>B23003_021</td>\n      <td>age_range</td>\n      <td>(6, 17)</td>\n      <td>(20, 64)</td>\n    </tr>\n    <tr>\n      <th>46</th>\n      <td>B23003</td>\n      <td>B23003_020</td>\n      <td>age</td>\n      <td>006-017</td>\n      <td>020-064</td>\n    </tr>\n    <tr>\n      <th>51</th>\n      <td>B23003</td>\n      <td>B23003_022</td>\n      <td>age_range</td>\n      <td>(6, 17)</td>\n      <td>(20, 64)</td>\n    </tr>\n    <tr>\n      <th>80</th>\n      <td>B26120</td>\n      <td>B26120_010</td>\n      <td>group_quarters</td>\n      <td>nursing</td>\n      <td>group_quarters</td>\n    </tr>\n    <tr>\n      <th>116</th>\n      <td>B26220</td>\n      <td>B26220_019</td>\n      <td>group_quarters</td>\n      <td>college</td>\n      <td>group_quarters</td>\n    </tr>\n    <tr>\n      <th>34</th>\n      <td>B23003</td>\n      <td>B23003_014</td>\n      <td>age</td>\n      <td>006-017</td>\n      <td>020-064</td>\n    </tr>\n    <tr>\n      <th>57</th>\n      <td>B23003</td>\n      <td>B23003_025</td>\n      <td>age_range</td>\n      <td>(0, 18)</td>\n      <td>(20, 64)</td>\n    </tr>\n    <tr>\n      <th>74</th>\n      <td>B26120</td>\n      <td>B26120_004</td>\n      <td>group_quarters</td>\n      <td>institutionalized</td>\n      <td>group_quarters</td>\n    </tr>\n    <tr>\n      <th>71</th>\n      <td>B26115</td>\n      <td>B26115_016</td>\n      <td>group_quarters</td>\n      <td>college</td>\n      <td>noninstitutionalized</td>\n    </tr>\n    <tr>\n      <th>101</th>\n      <td>B26220</td>\n      <td>B26220_004</td>\n      <td>group_quarters</td>\n      <td>institutionalized</td>\n      <td>group_quarters</td>\n    </tr>\n    <tr>\n      <th>115</th>\n      <td>B26220</td>\n      <td>B26220_018</td>\n      <td>group_quarters</td>\n      <td>noninstitutionalized</td>\n      <td>group_quarters</td>\n    </tr>\n    <tr>\n      <th>29</th>\n      <td>B23003</td>\n      <td>B23003_011</td>\n      <td>age_range</td>\n      <td>(6, 17)</td>\n      <td>(20, 64)</td>\n    </tr>\n    <tr>\n      <th>104</th>\n      <td>B26220</td>\n      <td>B26220_007</td>\n      <td>group_quarters</td>\n      <td>correctional</td>\n      <td>group_quarters</td>\n    </tr>\n  </tbody>\n</table>\n</div>"
     },
     "execution_count": 6,
     "metadata": {},
     "output_type": "execute_result"
    }
   ],
   "source": [
    "# Check for columns where the extracted parameter for the table is different than the column\n",
    "# Most of these cases are OK, since the column universe is a subset of the table universe,\n",
    "#\n",
    "#Table_lookup\n",
    "tabl_lu = tdf.fillna('all').replace({'001-120':'all'}).set_index('table_id').to_dict('index')\n",
    "\n",
    "# Common Columns\n",
    "com_col = set(tdf.columns) & set(cdf.columns) - set(['table_id'])\n",
    "\n",
    "cdf = cdf.fillna('all')\n",
    "\n",
    "diffs = []\n",
    "for idx, r in cdf.iterrows():\n",
    "    tabl = tabl_lu[r.table_id]\n",
    "    for c in com_col:\n",
    "        if r[c] != 'all' and tabl[c] != 'all' and r[c] != tabl[c]:\n",
    "\n",
    "            # Ignore if the column is age, and the range is within the table range\n",
    "            if c == 'age':\n",
    "                r1 = [int(e) for e in r[c].split('-')]\n",
    "                r2 = [int(e) for e in tabl[c].split('-')]\n",
    "                if r1[0] >= r2[0] and r1[1] <= r2[1]:\n",
    "                    continue\n",
    "            elif c == 'age_range':\n",
    "                r1 = r[c]\n",
    "                r2 = tabl[c]\n",
    "                if r1[0] >= r2[0] and r1[1] <= r2[1]:\n",
    "                    continue\n",
    "\n",
    "            diffs.append((r.table_id, r.column_id, c, r[c], tabl[c]))\n",
    "\n",
    "diffs = pd.DataFrame(diffs, columns=['table_id','column_id','col','table_val', 'col_val'])\n",
    "print(len(diffs))\n",
    "diffs.sample(40)"
   ],
   "metadata": {
    "collapsed": false
   }
  },
  {
   "cell_type": "code",
   "execution_count": 7,
   "outputs": [
    {
     "data": {
      "text/plain": "          column_id  table_id                            name     sex   race  \\\n11894   B19037D_030   B19037D              $60,000 to $74,999     all  asian   \n13703   B20005G_055   B20005G                $5,000 to $7,499  female   many   \n14254    B21100_008    B21100            70 percent or higher     all    all   \n17565    B24116_161    B24116  Other teachers and instructors  female    all   \n15095    B23022_048    B23022                   1 to 13 weeks  female    all   \n11779   B19037B_053   B19037B   Householder 65 years and over     all  black   \n5392     B08412_012    B08412                60 to 89 minutes     all    all   \n26968    B27019_003    B27019  Less than high school graduate     all    all   \n16250    C24070_062    C24070                    Retail trade     all    all   \n24952  B26109PR_024  B26109PR                       Elsewhere     all    all   \n\n           age  age_range  min_age  max_age poverty_status  ...    units  \\\n11894  025-044   (25, 44)       25       44            all  ...  dollars   \n13703  016-120  (16, 120)        0      120            all  ...  dollars   \n14254  018-120  (18, 120)        0      120            all  ...   people   \n17565  016-120  (16, 120)        0      120            all  ...   people   \n15095  016-064   (16, 64)        0      120            all  ...   people   \n11779  065-120  (65, 120)       65      120            all  ...  dollars   \n5392   016-120  (16, 120)        0      120            all  ...   people   \n26968  026-064   (26, 64)       26       64            all  ...   people   \n16250  016-120  (16, 120)        0      120            all  ...   people   \n24952      all   (1, 120)        0      120            all  ...   people   \n\n      technical civilian veteran ft_employed household grand_pc opposite_sex  \\\n11894     False      all     all         all      True      all          all   \n13703     False      all     all         all       all      all          all   \n14254     False     True    True         all       all      all          all   \n17565     False     True     all         all       all      all          all   \n15095     False      all     all         all       all      all          all   \n11779     False      all     all         all      True      all          all   \n5392      False      all     all         all       all      all          all   \n26968     False     True     all         all       all      all          all   \n16250     False     True     all         all       all      all          all   \n24952     False      all     all         all       all      all          all   \n\n      housing redundant_paths  \n11894     all           False  \n13703     all           False  \n14254     all           False  \n17565     all           False  \n15095     all           False  \n11779     all           False  \n5392      all           False  \n26968     all           False  \n16250     all           False  \n24952     all           False  \n\n[10 rows x 37 columns]",
      "text/html": "<div>\n<style scoped>\n    .dataframe tbody tr th:only-of-type {\n        vertical-align: middle;\n    }\n\n    .dataframe tbody tr th {\n        vertical-align: top;\n    }\n\n    .dataframe thead th {\n        text-align: right;\n    }\n</style>\n<table border=\"1\" class=\"dataframe\">\n  <thead>\n    <tr style=\"text-align: right;\">\n      <th></th>\n      <th>column_id</th>\n      <th>table_id</th>\n      <th>name</th>\n      <th>sex</th>\n      <th>race</th>\n      <th>age</th>\n      <th>age_range</th>\n      <th>min_age</th>\n      <th>max_age</th>\n      <th>poverty_status</th>\n      <th>...</th>\n      <th>units</th>\n      <th>technical</th>\n      <th>civilian</th>\n      <th>veteran</th>\n      <th>ft_employed</th>\n      <th>household</th>\n      <th>grand_pc</th>\n      <th>opposite_sex</th>\n      <th>housing</th>\n      <th>redundant_paths</th>\n    </tr>\n  </thead>\n  <tbody>\n    <tr>\n      <th>11894</th>\n      <td>B19037D_030</td>\n      <td>B19037D</td>\n      <td>$60,000 to $74,999</td>\n      <td>all</td>\n      <td>asian</td>\n      <td>025-044</td>\n      <td>(25, 44)</td>\n      <td>25</td>\n      <td>44</td>\n      <td>all</td>\n      <td>...</td>\n      <td>dollars</td>\n      <td>False</td>\n      <td>all</td>\n      <td>all</td>\n      <td>all</td>\n      <td>True</td>\n      <td>all</td>\n      <td>all</td>\n      <td>all</td>\n      <td>False</td>\n    </tr>\n    <tr>\n      <th>13703</th>\n      <td>B20005G_055</td>\n      <td>B20005G</td>\n      <td>$5,000 to $7,499</td>\n      <td>female</td>\n      <td>many</td>\n      <td>016-120</td>\n      <td>(16, 120)</td>\n      <td>0</td>\n      <td>120</td>\n      <td>all</td>\n      <td>...</td>\n      <td>dollars</td>\n      <td>False</td>\n      <td>all</td>\n      <td>all</td>\n      <td>all</td>\n      <td>all</td>\n      <td>all</td>\n      <td>all</td>\n      <td>all</td>\n      <td>False</td>\n    </tr>\n    <tr>\n      <th>14254</th>\n      <td>B21100_008</td>\n      <td>B21100</td>\n      <td>70 percent or higher</td>\n      <td>all</td>\n      <td>all</td>\n      <td>018-120</td>\n      <td>(18, 120)</td>\n      <td>0</td>\n      <td>120</td>\n      <td>all</td>\n      <td>...</td>\n      <td>people</td>\n      <td>False</td>\n      <td>True</td>\n      <td>True</td>\n      <td>all</td>\n      <td>all</td>\n      <td>all</td>\n      <td>all</td>\n      <td>all</td>\n      <td>False</td>\n    </tr>\n    <tr>\n      <th>17565</th>\n      <td>B24116_161</td>\n      <td>B24116</td>\n      <td>Other teachers and instructors</td>\n      <td>female</td>\n      <td>all</td>\n      <td>016-120</td>\n      <td>(16, 120)</td>\n      <td>0</td>\n      <td>120</td>\n      <td>all</td>\n      <td>...</td>\n      <td>people</td>\n      <td>False</td>\n      <td>True</td>\n      <td>all</td>\n      <td>all</td>\n      <td>all</td>\n      <td>all</td>\n      <td>all</td>\n      <td>all</td>\n      <td>False</td>\n    </tr>\n    <tr>\n      <th>15095</th>\n      <td>B23022_048</td>\n      <td>B23022</td>\n      <td>1 to 13 weeks</td>\n      <td>female</td>\n      <td>all</td>\n      <td>016-064</td>\n      <td>(16, 64)</td>\n      <td>0</td>\n      <td>120</td>\n      <td>all</td>\n      <td>...</td>\n      <td>people</td>\n      <td>False</td>\n      <td>all</td>\n      <td>all</td>\n      <td>all</td>\n      <td>all</td>\n      <td>all</td>\n      <td>all</td>\n      <td>all</td>\n      <td>False</td>\n    </tr>\n    <tr>\n      <th>11779</th>\n      <td>B19037B_053</td>\n      <td>B19037B</td>\n      <td>Householder 65 years and over</td>\n      <td>all</td>\n      <td>black</td>\n      <td>065-120</td>\n      <td>(65, 120)</td>\n      <td>65</td>\n      <td>120</td>\n      <td>all</td>\n      <td>...</td>\n      <td>dollars</td>\n      <td>False</td>\n      <td>all</td>\n      <td>all</td>\n      <td>all</td>\n      <td>True</td>\n      <td>all</td>\n      <td>all</td>\n      <td>all</td>\n      <td>False</td>\n    </tr>\n    <tr>\n      <th>5392</th>\n      <td>B08412_012</td>\n      <td>B08412</td>\n      <td>60 to 89 minutes</td>\n      <td>all</td>\n      <td>all</td>\n      <td>016-120</td>\n      <td>(16, 120)</td>\n      <td>0</td>\n      <td>120</td>\n      <td>all</td>\n      <td>...</td>\n      <td>people</td>\n      <td>False</td>\n      <td>all</td>\n      <td>all</td>\n      <td>all</td>\n      <td>all</td>\n      <td>all</td>\n      <td>all</td>\n      <td>all</td>\n      <td>False</td>\n    </tr>\n    <tr>\n      <th>26968</th>\n      <td>B27019_003</td>\n      <td>B27019</td>\n      <td>Less than high school graduate</td>\n      <td>all</td>\n      <td>all</td>\n      <td>026-064</td>\n      <td>(26, 64)</td>\n      <td>26</td>\n      <td>64</td>\n      <td>all</td>\n      <td>...</td>\n      <td>people</td>\n      <td>False</td>\n      <td>True</td>\n      <td>all</td>\n      <td>all</td>\n      <td>all</td>\n      <td>all</td>\n      <td>all</td>\n      <td>all</td>\n      <td>False</td>\n    </tr>\n    <tr>\n      <th>16250</th>\n      <td>C24070_062</td>\n      <td>C24070</td>\n      <td>Retail trade</td>\n      <td>all</td>\n      <td>all</td>\n      <td>016-120</td>\n      <td>(16, 120)</td>\n      <td>0</td>\n      <td>120</td>\n      <td>all</td>\n      <td>...</td>\n      <td>people</td>\n      <td>False</td>\n      <td>True</td>\n      <td>all</td>\n      <td>all</td>\n      <td>all</td>\n      <td>all</td>\n      <td>all</td>\n      <td>all</td>\n      <td>False</td>\n    </tr>\n    <tr>\n      <th>24952</th>\n      <td>B26109PR_024</td>\n      <td>B26109PR</td>\n      <td>Elsewhere</td>\n      <td>all</td>\n      <td>all</td>\n      <td>all</td>\n      <td>(1, 120)</td>\n      <td>0</td>\n      <td>120</td>\n      <td>all</td>\n      <td>...</td>\n      <td>people</td>\n      <td>False</td>\n      <td>all</td>\n      <td>all</td>\n      <td>all</td>\n      <td>all</td>\n      <td>all</td>\n      <td>all</td>\n      <td>all</td>\n      <td>False</td>\n    </tr>\n  </tbody>\n</table>\n<p>10 rows × 37 columns</p>\n</div>"
     },
     "execution_count": 7,
     "metadata": {},
     "output_type": "execute_result"
    }
   ],
   "source": [
    "# Merge the table and column dataframes\n",
    "\n",
    "t_only_cols = ['table_id'] + list(set(tdf.columns) - set(cdf.columns))\n",
    "c_only_cols = list(set(cdf.columns) - set(tdf.columns))\n",
    "cc = set(tdf.columns) & set(cdf.columns)\n",
    "\n",
    "rows = []\n",
    "for idx, r in cdf.iterrows():\n",
    "    tabl = tabl_lu[r.table_id]\n",
    "\n",
    "    com_v = {}\n",
    "\n",
    "    for c in com_col:\n",
    "        c_v = r[c]\n",
    "        t_v = tabl[c]\n",
    "\n",
    "        if c_v == 'all':\n",
    "            v = t_v\n",
    "        else:\n",
    "            v = c_v\n",
    "\n",
    "        com_v[c] = v\n",
    "\n",
    "    d = r.to_dict()\n",
    "    d.update(tabl)\n",
    "    d.update(com_v)\n",
    "\n",
    "    rows.append(d)\n",
    "\n",
    "df = pd.DataFrame(rows)\n",
    "\n",
    "df.sample(10)"
   ],
   "metadata": {
    "collapsed": false
   }
  },
  {
   "cell_type": "code",
   "execution_count": 21,
   "outputs": [
    {
     "data": {
      "text/plain": "339"
     },
     "execution_count": 21,
     "metadata": {},
     "output_type": "execute_result"
    }
   ],
   "source": [
    "# The group id is the id of the first table that has this bare title\n",
    "df['group_id'] = df.groupby('bare_title').table_id.transform(lambda g: min(g) )\n"
   ],
   "metadata": {
    "collapsed": false
   }
  },
  {
   "cell_type": "code",
   "execution_count": 8,
   "outputs": [
    {
     "data": {
      "text/plain": "  table_id       title  bare_title          universe  subject   column_id  \\\n0   B01001  Sex By Age  Population  Total population  Age-Sex  B01001_001   \n1   B01001  Sex By Age  Population  Total population  Age-Sex  B01001_002   \n2   B01001  Sex By Age  Population  Total population  Age-Sex  B01001_003   \n3   B01001  Sex By Age  Population  Total population  Age-Sex  B01001_004   \n4   B01001  Sex By Age  Population  Total population  Age-Sex  B01001_005   \n\n             name                        path filtered_path   units  ...  \\\n0           Total                      /total                people  ...   \n1            Male                 /total/male                people  ...   \n2   Under 5 years   /total/male/under 5 years                people  ...   \n3    5 to 9 years    /total/male/5 to 9 years                people  ...   \n4  10 to 14 years  /total/male/10 to 14 years                people  ...   \n\n  grand_pc opposite_sex group_quarters housing  tenure  citizen foreign_born  \\\n0      all          all            all     all     all      all          all   \n1      all          all            all     all     all      all          all   \n2      all          all            all     all     all      all          all   \n3      all          all            all     all     all      all          all   \n4      all          all            all     all     all      all          all   \n\n  civilian veteran technical  \n0      all     all     False  \n1      all     all     False  \n2      all     all     False  \n3      all     all     False  \n4      all     all     False  \n\n[5 rows x 33 columns]",
      "text/html": "<div>\n<style scoped>\n    .dataframe tbody tr th:only-of-type {\n        vertical-align: middle;\n    }\n\n    .dataframe tbody tr th {\n        vertical-align: top;\n    }\n\n    .dataframe thead th {\n        text-align: right;\n    }\n</style>\n<table border=\"1\" class=\"dataframe\">\n  <thead>\n    <tr style=\"text-align: right;\">\n      <th></th>\n      <th>table_id</th>\n      <th>title</th>\n      <th>bare_title</th>\n      <th>universe</th>\n      <th>subject</th>\n      <th>column_id</th>\n      <th>name</th>\n      <th>path</th>\n      <th>filtered_path</th>\n      <th>units</th>\n      <th>...</th>\n      <th>grand_pc</th>\n      <th>opposite_sex</th>\n      <th>group_quarters</th>\n      <th>housing</th>\n      <th>tenure</th>\n      <th>citizen</th>\n      <th>foreign_born</th>\n      <th>civilian</th>\n      <th>veteran</th>\n      <th>technical</th>\n    </tr>\n  </thead>\n  <tbody>\n    <tr>\n      <th>0</th>\n      <td>B01001</td>\n      <td>Sex By Age</td>\n      <td>Population</td>\n      <td>Total population</td>\n      <td>Age-Sex</td>\n      <td>B01001_001</td>\n      <td>Total</td>\n      <td>/total</td>\n      <td></td>\n      <td>people</td>\n      <td>...</td>\n      <td>all</td>\n      <td>all</td>\n      <td>all</td>\n      <td>all</td>\n      <td>all</td>\n      <td>all</td>\n      <td>all</td>\n      <td>all</td>\n      <td>all</td>\n      <td>False</td>\n    </tr>\n    <tr>\n      <th>1</th>\n      <td>B01001</td>\n      <td>Sex By Age</td>\n      <td>Population</td>\n      <td>Total population</td>\n      <td>Age-Sex</td>\n      <td>B01001_002</td>\n      <td>Male</td>\n      <td>/total/male</td>\n      <td></td>\n      <td>people</td>\n      <td>...</td>\n      <td>all</td>\n      <td>all</td>\n      <td>all</td>\n      <td>all</td>\n      <td>all</td>\n      <td>all</td>\n      <td>all</td>\n      <td>all</td>\n      <td>all</td>\n      <td>False</td>\n    </tr>\n    <tr>\n      <th>2</th>\n      <td>B01001</td>\n      <td>Sex By Age</td>\n      <td>Population</td>\n      <td>Total population</td>\n      <td>Age-Sex</td>\n      <td>B01001_003</td>\n      <td>Under 5 years</td>\n      <td>/total/male/under 5 years</td>\n      <td></td>\n      <td>people</td>\n      <td>...</td>\n      <td>all</td>\n      <td>all</td>\n      <td>all</td>\n      <td>all</td>\n      <td>all</td>\n      <td>all</td>\n      <td>all</td>\n      <td>all</td>\n      <td>all</td>\n      <td>False</td>\n    </tr>\n    <tr>\n      <th>3</th>\n      <td>B01001</td>\n      <td>Sex By Age</td>\n      <td>Population</td>\n      <td>Total population</td>\n      <td>Age-Sex</td>\n      <td>B01001_004</td>\n      <td>5 to 9 years</td>\n      <td>/total/male/5 to 9 years</td>\n      <td></td>\n      <td>people</td>\n      <td>...</td>\n      <td>all</td>\n      <td>all</td>\n      <td>all</td>\n      <td>all</td>\n      <td>all</td>\n      <td>all</td>\n      <td>all</td>\n      <td>all</td>\n      <td>all</td>\n      <td>False</td>\n    </tr>\n    <tr>\n      <th>4</th>\n      <td>B01001</td>\n      <td>Sex By Age</td>\n      <td>Population</td>\n      <td>Total population</td>\n      <td>Age-Sex</td>\n      <td>B01001_005</td>\n      <td>10 to 14 years</td>\n      <td>/total/male/10 to 14 years</td>\n      <td></td>\n      <td>people</td>\n      <td>...</td>\n      <td>all</td>\n      <td>all</td>\n      <td>all</td>\n      <td>all</td>\n      <td>all</td>\n      <td>all</td>\n      <td>all</td>\n      <td>all</td>\n      <td>all</td>\n      <td>False</td>\n    </tr>\n  </tbody>\n</table>\n<p>5 rows × 33 columns</p>\n</div>"
     },
     "execution_count": 8,
     "metadata": {},
     "output_type": "execute_result"
    }
   ],
   "source": [
    "cols = [\n",
    "        'table_id', 'title', 'group_id', 'bare_title', 'universe', 'subject',\n",
    "        'column_id',  'name', 'path', 'filtered_path', 'units',\n",
    "        'sex', 'race', 'age', 'age_range', 'min_age', 'max_age',\n",
    "        'poverty_status', 'has_income',   'employed', 'ft_employed',\n",
    "        'marital_status','family',  'household', 'grand_pc', 'opposite_sex',\n",
    "        'group_quarters', 'housing', 'tenure',\n",
    "        'citizen',  'foreign_born',\n",
    "        'civilian', 'veteran',\n",
    "        'technical'\n",
    "       ]\n",
    "\n",
    "mdf = df[cols]\n",
    "mdf.head()"
   ],
   "metadata": {
    "collapsed": false
   }
  }
 ],
 "metadata": {
  "kernelspec": {
   "display_name": "Python 3 (ipykernel)",
   "language": "python",
   "name": "python3"
  },
  "language_info": {
   "codemirror_mode": {
    "name": "ipython",
    "version": 3
   },
   "file_extension": ".py",
   "mimetype": "text/x-python",
   "name": "python",
   "nbconvert_exporter": "python",
   "pygments_lexer": "ipython3",
   "version": "3.10.6"
  }
 },
 "nbformat": 4,
 "nbformat_minor": 4
}
