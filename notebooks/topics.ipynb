{
 "cells": [
  {
   "cell_type": "code",
   "execution_count": 1,
   "metadata": {},
   "outputs": [],
   "source": [
    "%load_ext autoreload\n",
    "%autoreload 2\n",
    "\n",
    "import seaborn as sns\n",
    "import metapack as mp\n",
    "import pandas as pd\n",
    "import numpy as np\n",
    "import matplotlib.pyplot as plt\n",
    "from IPython.display import display \n",
    "\n",
    "%matplotlib inline\n",
    "sns.set_context('notebook')\n",
    "mp.jupyter.init()\n"
   ]
  },
  {
   "cell_type": "code",
   "execution_count": 4,
   "metadata": {},
   "outputs": [
    {
     "data": {
      "text/plain": "# Metadata for the 2020 ACS\n`civicknowledge.com-census_meta-2020e5-4.1.1` Last Update: 2023-05-18T19:06:55\n\n_Deatilsed metadata for ACS releases._\n\n\n\n\n \n\n## Contacts\n\n* **Wrangler** [Eric Busboom](mailto:eric@civicknowledge.com), [Civic Knowledge](http://civicknowledge.com)\n\n## Resources\n\n* **[metadata](notebooks/build.ipynb#mdf)**. Combined columns and tables\n* **[tables](notebooks/build.ipynb#tdf)**. \n* **[columns](notebooks/build.ipynb#cdf)**. \n* **[topics](notebooks/topics.ipynb#topics_df)**. \n",
      "text/html": "<h1>Metadata for the 2020 ACS</h1>\n<p><code>civicknowledge.com-census_meta-2020e5-4.1.1</code> Last Update: 2023-05-18T19:06:55</p>\n<p><em>Deatilsed metadata for ACS releases.</em></p>\n<h2>Contacts</h2>\n<ul>\n<li><strong>Wrangler</strong> <a href=\"mailto:eric@civicknowledge.com\">Eric Busboom</a>, <a href=\"http://civicknowledge.com\">Civic Knowledge</a></li>\n</ul>\n<h2>Resources</h2>\n<ul>\n<li><strong><a href=\"notebooks/build.ipynb#mdf\">metadata</a></strong>. Combined columns and tables</li>\n<li><strong><a href=\"notebooks/build.ipynb#tdf\">tables</a></strong>. </li>\n<li><strong><a href=\"notebooks/build.ipynb#cdf\">columns</a></strong>. </li>\n<li><strong><a href=\"notebooks/topics.ipynb#topics_df\">topics</a></strong>. </li>\n</ul>"
     },
     "execution_count": 4,
     "metadata": {},
     "output_type": "execute_result"
    }
   ],
   "source": [
    "pkg = mp.jupyter.open_source_package()\n",
    "#pkg = mp.jupyter.open_source_package()\n",
    "# Setup importing form this package\n",
    "pkg.set_sys_path()\n",
    "import pylib # Import the code for the package\n",
    "from pylib.census_path_processing import *\n",
    "\n",
    "pkg"
   ]
  },
  {
   "cell_type": "code",
   "execution_count": null,
   "outputs": [],
   "source": [
    "df = pkg.resource('metadata').dataframe()"
   ],
   "metadata": {
    "collapsed": false
   }
  },
  {
   "cell_type": "code",
   "execution_count": null,
   "outputs": [],
   "source": [
    "df.head()"
   ],
   "metadata": {
    "collapsed": false
   }
  },
  {
   "cell_type": "code",
   "execution_count": null,
   "outputs": [],
   "source": [
    "from pylib.topics import find_topics, compile_topics\n",
    "from pathlib import Path\n",
    "from researchrobot.topics import TopicCategorizer\n",
    "\n",
    "topics_dir = Path.cwd().parent.joinpath('cache/topics')\n",
    "\n",
    "tc = TopicCategorizer()\n",
    "\n",
    "find_topics(topics_dir,tc, df) # Calls into OpenAI and caches the results\n",
    "topics_df =  compile_topics(topics_dir, df)\n",
    "\n"
   ],
   "metadata": {
    "collapsed": false
   }
  },
  {
   "cell_type": "code",
   "execution_count": null,
   "outputs": [],
   "source": [],
   "metadata": {
    "collapsed": false
   }
  },
  {
   "cell_type": "code",
   "execution_count": null,
   "outputs": [],
   "source": [],
   "metadata": {
    "collapsed": false
   }
  },
  {
   "cell_type": "code",
   "execution_count": null,
   "outputs": [],
   "source": [],
   "metadata": {
    "collapsed": false
   }
  }
 ],
 "metadata": {
  "kernelspec": {
   "display_name": "Python 3",
   "language": "python",
   "name": "python3"
  },
  "language_info": {
   "codemirror_mode": {
    "name": "ipython",
    "version": 3
   },
   "file_extension": ".py",
   "mimetype": "text/x-python",
   "name": "python",
   "nbconvert_exporter": "python",
   "pygments_lexer": "ipython3",
   "version": "3.6.0"
  }
 },
 "nbformat": 4,
 "nbformat_minor": 2
}
