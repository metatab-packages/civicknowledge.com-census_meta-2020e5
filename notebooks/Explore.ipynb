{
 "cells": [
  {
   "cell_type": "code",
   "execution_count": 1,
   "metadata": {
    "tags": []
   },
   "outputs": [],
   "source": [
    "import seaborn as sns\n",
    "import metapack as mp\n",
    "import pandas as pd\n",
    "import numpy as np\n",
    "import matplotlib.pyplot as plt\n",
    "from IPython.display import display \n",
    "\n",
    "%matplotlib inline\n",
    "sns.set_context('notebook')\n",
    "mp.jupyter.init()\n"
   ]
  },
  {
   "cell_type": "code",
   "execution_count": 2,
   "metadata": {
    "tags": []
   },
   "outputs": [
    {
     "data": {
      "text/plain": "# Metadata for the 2020 ACS\n`civicknowledge.com-census_meta-2020e5-3.3.1` Last Update: 2023-04-22T00:23:32\n\n_Deatilsed metadata for ACS releases._\n\n\n\n\n \n\n## Contacts\n\n* **Wrangler** [Eric Busboom](mailto:eric@civicknowledge.com), [Civic Knowledge](http://civicknowledge.com)\n\n## Resources\n\n* **[metadata](data/metadata.csv)**. Combined columns and tables\n* **[tables](data/tables.csv)**. \n* **[columns](data/columns.csv)**. \n",
      "text/html": "<h1>Metadata for the 2020 ACS</h1>\n<p><code>civicknowledge.com-census_meta-2020e5-3.3.1</code> Last Update: 2023-04-22T00:23:32</p>\n<p><em>Deatilsed metadata for ACS releases.</em></p>\n<h2>Contacts</h2>\n<ul>\n<li><strong>Wrangler</strong> <a href=\"mailto:eric@civicknowledge.com\">Eric Busboom</a>, <a href=\"http://civicknowledge.com\">Civic Knowledge</a></li>\n</ul>\n<h2>Resources</h2>\n<ul>\n<li><strong><a href=\"data/metadata.csv\">metadata</a></strong>. Combined columns and tables</li>\n<li><strong><a href=\"data/tables.csv\">tables</a></strong>. </li>\n<li><strong><a href=\"data/columns.csv\">columns</a></strong>. </li>\n</ul>"
     },
     "execution_count": 2,
     "metadata": {},
     "output_type": "execute_result"
    }
   ],
   "source": [
    "pkg = mp.jupyter.open_package()\n",
    "#pkg = mp.jupyter.open_source_package()\n",
    "pkg"
   ]
  },
  {
   "cell_type": "code",
   "execution_count": 3,
   "metadata": {
    "tags": []
   },
   "outputs": [],
   "source": [
    "df = pkg.resource('metadata').dataframe()\n",
    "df = df[~df.subject.isin(['Imputations','Quality Measures'])]"
   ]
  },
  {
   "cell_type": "code",
   "execution_count": 4,
   "metadata": {},
   "outputs": [
    {
     "data": {
      "text/plain": "                               0                 1                          2  \\\ntable_id                  B01001            B01001                     B01001   \ntitle                 Sex By Age        Sex By Age                 Sex By Age   \ngroup_id                  G01001            G01001                     G01001   \nbare_title            Population        Population                 Population   \nuniverse        Total population  Total population           Total population   \nsubject                  Age-Sex           Age-Sex                    Age-Sex   \ncolumn_id             B01001_001        B01001_002                 B01001_003   \nname                       Total              Male              Under 5 years   \npath                      /total       /total/male  /total/male/under 5 years   \nfiltered_path                NaN               NaN                        NaN   \ntechnical                  False             False                      False   \nunits                     people            people                     people   \nage                          all               all                    000-005   \nsex                          all              male                       male   \nrace                         all               all                        all   \npoverty_status               all               all                        all   \nhas_income                   all               all                        all   \nemployed                     all               all                        all   \nft_employed                  all               all                        all   \nmarital_status               all               all                        all   \nfamily                       all               all                        all   \nhousehold                    all               all                        all   \ngrand_pc                     all               all                        all   \nopposite_sex                 all               all                        all   \ngroup_quarters               all               all                        all   \nhousing                      all               all                        all   \ntenure                       all               all                        all   \ncitizen                      all               all                        all   \nforeign_born                 all               all                        all   \nmilitary                     all               all                        all   \n\n                                       3                           4  \ntable_id                          B01001                      B01001  \ntitle                         Sex By Age                  Sex By Age  \ngroup_id                          G01001                      G01001  \nbare_title                    Population                  Population  \nuniverse                Total population            Total population  \nsubject                          Age-Sex                     Age-Sex  \ncolumn_id                     B01001_004                  B01001_005  \nname                        5 to 9 years              10 to 14 years  \npath            /total/male/5 to 9 years  /total/male/10 to 14 years  \nfiltered_path                        NaN                         NaN  \ntechnical                          False                       False  \nunits                             people                      people  \nage                              005-009                     010-014  \nsex                                 male                        male  \nrace                                 all                         all  \npoverty_status                       all                         all  \nhas_income                           all                         all  \nemployed                             all                         all  \nft_employed                          all                         all  \nmarital_status                       all                         all  \nfamily                               all                         all  \nhousehold                            all                         all  \ngrand_pc                             all                         all  \nopposite_sex                         all                         all  \ngroup_quarters                       all                         all  \nhousing                              all                         all  \ntenure                               all                         all  \ncitizen                              all                         all  \nforeign_born                         all                         all  \nmilitary                             all                         all  ",
      "text/html": "<div>\n<style scoped>\n    .dataframe tbody tr th:only-of-type {\n        vertical-align: middle;\n    }\n\n    .dataframe tbody tr th {\n        vertical-align: top;\n    }\n\n    .dataframe thead th {\n        text-align: right;\n    }\n</style>\n<table border=\"1\" class=\"dataframe\">\n  <thead>\n    <tr style=\"text-align: right;\">\n      <th></th>\n      <th>0</th>\n      <th>1</th>\n      <th>2</th>\n      <th>3</th>\n      <th>4</th>\n    </tr>\n  </thead>\n  <tbody>\n    <tr>\n      <th>table_id</th>\n      <td>B01001</td>\n      <td>B01001</td>\n      <td>B01001</td>\n      <td>B01001</td>\n      <td>B01001</td>\n    </tr>\n    <tr>\n      <th>title</th>\n      <td>Sex By Age</td>\n      <td>Sex By Age</td>\n      <td>Sex By Age</td>\n      <td>Sex By Age</td>\n      <td>Sex By Age</td>\n    </tr>\n    <tr>\n      <th>group_id</th>\n      <td>G01001</td>\n      <td>G01001</td>\n      <td>G01001</td>\n      <td>G01001</td>\n      <td>G01001</td>\n    </tr>\n    <tr>\n      <th>bare_title</th>\n      <td>Population</td>\n      <td>Population</td>\n      <td>Population</td>\n      <td>Population</td>\n      <td>Population</td>\n    </tr>\n    <tr>\n      <th>universe</th>\n      <td>Total population</td>\n      <td>Total population</td>\n      <td>Total population</td>\n      <td>Total population</td>\n      <td>Total population</td>\n    </tr>\n    <tr>\n      <th>subject</th>\n      <td>Age-Sex</td>\n      <td>Age-Sex</td>\n      <td>Age-Sex</td>\n      <td>Age-Sex</td>\n      <td>Age-Sex</td>\n    </tr>\n    <tr>\n      <th>column_id</th>\n      <td>B01001_001</td>\n      <td>B01001_002</td>\n      <td>B01001_003</td>\n      <td>B01001_004</td>\n      <td>B01001_005</td>\n    </tr>\n    <tr>\n      <th>name</th>\n      <td>Total</td>\n      <td>Male</td>\n      <td>Under 5 years</td>\n      <td>5 to 9 years</td>\n      <td>10 to 14 years</td>\n    </tr>\n    <tr>\n      <th>path</th>\n      <td>/total</td>\n      <td>/total/male</td>\n      <td>/total/male/under 5 years</td>\n      <td>/total/male/5 to 9 years</td>\n      <td>/total/male/10 to 14 years</td>\n    </tr>\n    <tr>\n      <th>filtered_path</th>\n      <td>NaN</td>\n      <td>NaN</td>\n      <td>NaN</td>\n      <td>NaN</td>\n      <td>NaN</td>\n    </tr>\n    <tr>\n      <th>technical</th>\n      <td>False</td>\n      <td>False</td>\n      <td>False</td>\n      <td>False</td>\n      <td>False</td>\n    </tr>\n    <tr>\n      <th>units</th>\n      <td>people</td>\n      <td>people</td>\n      <td>people</td>\n      <td>people</td>\n      <td>people</td>\n    </tr>\n    <tr>\n      <th>age</th>\n      <td>all</td>\n      <td>all</td>\n      <td>000-005</td>\n      <td>005-009</td>\n      <td>010-014</td>\n    </tr>\n    <tr>\n      <th>sex</th>\n      <td>all</td>\n      <td>male</td>\n      <td>male</td>\n      <td>male</td>\n      <td>male</td>\n    </tr>\n    <tr>\n      <th>race</th>\n      <td>all</td>\n      <td>all</td>\n      <td>all</td>\n      <td>all</td>\n      <td>all</td>\n    </tr>\n    <tr>\n      <th>poverty_status</th>\n      <td>all</td>\n      <td>all</td>\n      <td>all</td>\n      <td>all</td>\n      <td>all</td>\n    </tr>\n    <tr>\n      <th>has_income</th>\n      <td>all</td>\n      <td>all</td>\n      <td>all</td>\n      <td>all</td>\n      <td>all</td>\n    </tr>\n    <tr>\n      <th>employed</th>\n      <td>all</td>\n      <td>all</td>\n      <td>all</td>\n      <td>all</td>\n      <td>all</td>\n    </tr>\n    <tr>\n      <th>ft_employed</th>\n      <td>all</td>\n      <td>all</td>\n      <td>all</td>\n      <td>all</td>\n      <td>all</td>\n    </tr>\n    <tr>\n      <th>marital_status</th>\n      <td>all</td>\n      <td>all</td>\n      <td>all</td>\n      <td>all</td>\n      <td>all</td>\n    </tr>\n    <tr>\n      <th>family</th>\n      <td>all</td>\n      <td>all</td>\n      <td>all</td>\n      <td>all</td>\n      <td>all</td>\n    </tr>\n    <tr>\n      <th>household</th>\n      <td>all</td>\n      <td>all</td>\n      <td>all</td>\n      <td>all</td>\n      <td>all</td>\n    </tr>\n    <tr>\n      <th>grand_pc</th>\n      <td>all</td>\n      <td>all</td>\n      <td>all</td>\n      <td>all</td>\n      <td>all</td>\n    </tr>\n    <tr>\n      <th>opposite_sex</th>\n      <td>all</td>\n      <td>all</td>\n      <td>all</td>\n      <td>all</td>\n      <td>all</td>\n    </tr>\n    <tr>\n      <th>group_quarters</th>\n      <td>all</td>\n      <td>all</td>\n      <td>all</td>\n      <td>all</td>\n      <td>all</td>\n    </tr>\n    <tr>\n      <th>housing</th>\n      <td>all</td>\n      <td>all</td>\n      <td>all</td>\n      <td>all</td>\n      <td>all</td>\n    </tr>\n    <tr>\n      <th>tenure</th>\n      <td>all</td>\n      <td>all</td>\n      <td>all</td>\n      <td>all</td>\n      <td>all</td>\n    </tr>\n    <tr>\n      <th>citizen</th>\n      <td>all</td>\n      <td>all</td>\n      <td>all</td>\n      <td>all</td>\n      <td>all</td>\n    </tr>\n    <tr>\n      <th>foreign_born</th>\n      <td>all</td>\n      <td>all</td>\n      <td>all</td>\n      <td>all</td>\n      <td>all</td>\n    </tr>\n    <tr>\n      <th>military</th>\n      <td>all</td>\n      <td>all</td>\n      <td>all</td>\n      <td>all</td>\n      <td>all</td>\n    </tr>\n  </tbody>\n</table>\n</div>"
     },
     "execution_count": 4,
     "metadata": {},
     "output_type": "execute_result"
    }
   ],
   "source": [
    "df.head().T"
   ]
  },
  {
   "cell_type": "code",
   "execution_count": 5,
   "outputs": [
    {
     "name": "stdout",
     "output_type": "stream",
     "text": [
      "age ['000-005', '005-009', '010-014', '015-017', '018-019', '020-020', '021-021', '022-024', '025-029', '030-034', '035-039', '040-044', '045-049', '050-054', '055-059', '060-061', '062-064', '065-066', '067-069', '070-074', '075-079', '080-084', '085-120', '020-024', '035-044', '045-054', '055-064', '065-074', '075-084', '000-018', '018-120', '000-006', '006-017', '015-019', '060-064', '065-069', '000-010', '010-019', '020-029', '030-039', '040-049', '050-059', '060-069', '070-120', '005-017', '018-024', '025-034', '075-120', '005-120', '015-120', '025-120', '001-004', '016-120', '016-019', '025-044', '065-120', '000-003', '003-004', '005-005', '006-008', '009-011', '012-014', '006-011', '012-017', '018-034', '035-064', '030-120', '060-120', '015-064', '015-054', '015-050', '020-034', '035-050', '016-050', '045-050', '003-120', '035-120', '045-064', '025-039', '040-064', '018-064', '015-015', '016-017', '000-025', '018-059', '060-074', '000-019', '019-064', '015-024', '035-054', '060-060', '020-021', '016-064', '020-064', '025-064', '015-034', '000-015', '065-065', '006-018', '019-025', '026-034', '019-034', '026-120', '026-064', '018-029', '030-044']\n",
      "sex ['male', 'female']\n",
      "race ['white', 'black', 'aian', 'asian', 'nhopi', 'other', 'many', 'nhwhite', 'hisp', 'nhisp']\n",
      "poverty_status ['lt100', '100-150', 'gt150', 'gt100', '100-138', '138-200', '200-400', 'gt400']\n",
      "has_income ['Y']\n",
      "employed ['Y', 'N']\n",
      "ft_employed ['Y']\n",
      "marital_status ['never', 'married', 'divorced', 'separated', 'widowed']\n",
      "family ['family', 'nonfamily']\n",
      "household ['Y']\n",
      "grand_pc ['Y']\n",
      "opposite_sex ['Y']\n",
      "group_quarters ['noninstitutionalized', 'group_quarters', 'institutionalized', 'correctional', 'nursing', 'college', 'juvenile', 'military']\n",
      "housing ['Y']\n",
      "tenure ['owner', 'renter', 'occupied', 'vacant']\n",
      "citizen ['N', 'Y']\n",
      "foreign_born ['N', 'Y']\n",
      "military ['civilian', 'veteran']\n"
     ]
    }
   ],
   "source": [
    "for c in df.loc[:, 'age':]:\n",
    "    l = list(df[c].unique())\n",
    "    if 'all' in l:\n",
    "        l.remove('all')\n",
    "    print(c, l)"
   ],
   "metadata": {
    "collapsed": false
   }
  },
  {
   "cell_type": "code",
   "execution_count": 6,
   "outputs": [
    {
     "data": {
      "text/plain": "array([], dtype=object)"
     },
     "execution_count": 6,
     "metadata": {},
     "output_type": "execute_result"
    }
   ],
   "source": [
    "df[df.foreign_born=='True'].universe.unique()"
   ],
   "metadata": {
    "collapsed": false
   }
  },
  {
   "cell_type": "code",
   "execution_count": 7,
   "outputs": [
    {
     "data": {
      "text/plain": "array(['Population born outside the United States',\n       'Population born outside Puerto Rico',\n       'Foreign-born population excluding population born at sea',\n       'Foreign-born population in Puerto Rico excluding population born at sea',\n       'Foreign-born population'], dtype=object)"
     },
     "execution_count": 7,
     "metadata": {},
     "output_type": "execute_result"
    }
   ],
   "source": [
    "df[df.universe.str.lower().str.contains('born')].universe.unique()"
   ],
   "metadata": {
    "collapsed": false
   }
  },
  {
   "cell_type": "code",
   "execution_count": 8,
   "outputs": [
    {
     "data": {
      "text/plain": "                     subject  \\\n0                    Age-Sex   \n266                  Age-Sex   \n328                  Age-Sex   \n955                 Ancestry   \n846                 Ancestry   \n...                      ...   \n14005         Veteran Status   \n14247         Veteran Status   \n14044         Veteran Status   \n27386  Voting-Age Population   \n27402  Voting-Age Population   \n\n                                              bare_title  \n0                                             Population  \n266                                                  NaN  \n328                                                  Sex  \n955                                             Ancestry  \n846                            People Reporting Ancestry  \n...                                                  ...  \n14005                                     Veteran Status  \n14247  Service-Connected Disability-Rating Status And...  \n14044                         Period Of Military Service  \n27386                                 Citizen Voting-Age  \n27402                            Median Household Income  \n\n[268 rows x 2 columns]",
      "text/html": "<div>\n<style scoped>\n    .dataframe tbody tr th:only-of-type {\n        vertical-align: middle;\n    }\n\n    .dataframe tbody tr th {\n        vertical-align: top;\n    }\n\n    .dataframe thead th {\n        text-align: right;\n    }\n</style>\n<table border=\"1\" class=\"dataframe\">\n  <thead>\n    <tr style=\"text-align: right;\">\n      <th></th>\n      <th>subject</th>\n      <th>bare_title</th>\n    </tr>\n  </thead>\n  <tbody>\n    <tr>\n      <th>0</th>\n      <td>Age-Sex</td>\n      <td>Population</td>\n    </tr>\n    <tr>\n      <th>266</th>\n      <td>Age-Sex</td>\n      <td>NaN</td>\n    </tr>\n    <tr>\n      <th>328</th>\n      <td>Age-Sex</td>\n      <td>Sex</td>\n    </tr>\n    <tr>\n      <th>955</th>\n      <td>Ancestry</td>\n      <td>Ancestry</td>\n    </tr>\n    <tr>\n      <th>846</th>\n      <td>Ancestry</td>\n      <td>People Reporting Ancestry</td>\n    </tr>\n    <tr>\n      <th>...</th>\n      <td>...</td>\n      <td>...</td>\n    </tr>\n    <tr>\n      <th>14005</th>\n      <td>Veteran Status</td>\n      <td>Veteran Status</td>\n    </tr>\n    <tr>\n      <th>14247</th>\n      <td>Veteran Status</td>\n      <td>Service-Connected Disability-Rating Status And...</td>\n    </tr>\n    <tr>\n      <th>14044</th>\n      <td>Veteran Status</td>\n      <td>Period Of Military Service</td>\n    </tr>\n    <tr>\n      <th>27386</th>\n      <td>Voting-Age Population</td>\n      <td>Citizen Voting-Age</td>\n    </tr>\n    <tr>\n      <th>27402</th>\n      <td>Voting-Age Population</td>\n      <td>Median Household Income</td>\n    </tr>\n  </tbody>\n</table>\n<p>268 rows × 2 columns</p>\n</div>"
     },
     "execution_count": 8,
     "metadata": {},
     "output_type": "execute_result"
    }
   ],
   "source": [
    "df[['subject','bare_title']].drop_duplicates().sort_values('subject')\n"
   ],
   "metadata": {
    "collapsed": false
   }
  },
  {
   "cell_type": "code",
   "execution_count": 9,
   "outputs": [
    {
     "data": {
      "text/plain": "table_id                                                     B19069\ntitle             Aggregate Retirement Income In The Past 12 Mon...\ngroup_id                                                     G19069\nbare_title                              Aggregate Retirement Income\nuniverse                                                 Households\nsubject                                                      Income\ncolumn_id                                                B19069_001\nname              Aggregate retirement income in the past 12 mon...\npath              /aggregate retirement income in the past 12 mo...\nfiltered_path     /aggregate retirement income in the past 12 mo...\ntechnical                                                     False\nunits                                                       dollars\nage                                                             all\nsex                                                             all\nrace                                                            all\npoverty_status                                                  all\nhas_income                                                      all\nemployed                                                        all\nft_employed                                                     all\nmarital_status                                                  all\nfamily                                                          all\nhousehold                                                         Y\ngrand_pc                                                        all\nopposite_sex                                                    all\ngroup_quarters                                                  all\nhousing                                                         all\ntenure                                                          all\ncitizen                                                         all\nforeign_born                                                    all\nmilitary                                                        all\nName: 12326, dtype: object"
     },
     "execution_count": 9,
     "metadata": {},
     "output_type": "execute_result"
    }
   ],
   "source": [
    "df.loc[12326]"
   ],
   "metadata": {
    "collapsed": false
   }
  },
  {
   "cell_type": "code",
   "execution_count": 9,
   "outputs": [],
   "source": [],
   "metadata": {
    "collapsed": false
   }
  }
 ],
 "metadata": {
  "kernelspec": {
   "display_name": "Python 3 (ipykernel)",
   "language": "python",
   "name": "python3"
  },
  "language_info": {
   "codemirror_mode": {
    "name": "ipython",
    "version": 3
   },
   "file_extension": ".py",
   "mimetype": "text/x-python",
   "name": "python",
   "nbconvert_exporter": "python",
   "pygments_lexer": "ipython3",
   "version": "3.10.6"
  }
 },
 "nbformat": 4,
 "nbformat_minor": 4
}
